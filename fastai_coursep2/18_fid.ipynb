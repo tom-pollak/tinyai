{
 "cells": [
  {
   "cell_type": "markdown",
   "metadata": {},
   "source": [
    "# FID"
   ]
  },
  {
   "cell_type": "markdown",
   "metadata": {},
   "source": [
    "## Previous DDPM"
   ]
  },
  {
   "cell_type": "code",
   "execution_count": 1,
   "metadata": {},
   "outputs": [
    {
     "name": "stdout",
     "output_type": "stream",
     "text": [
      "setting cmap: gray_r\n"
     ]
    }
   ],
   "source": [
    "from tinyai import *\n",
    "\n",
    "import pickle,gzip,math,os,time,shutil,random,logging,torch\n",
    "import fastcore.all as fc,matplotlib as mpl,numpy as np,matplotlib.pyplot as plt\n",
    "from collections.abc import Mapping\n",
    "from pathlib import Path\n",
    "from functools import partial\n",
    "from scipy import linalg\n",
    "\n",
    "import timm\n",
    "import einops\n",
    "from fastcore.foundation import L\n",
    "import torchvision\n",
    "from torchvision import transforms\n",
    "import torchvision.transforms.functional as TF,torch.nn.functional as F\n",
    "from torch import tensor,nn,optim,Tensor\n",
    "from torch.utils.data import DataLoader,default_collate\n",
    "from torch.nn import init\n",
    "from torch.optim import lr_scheduler\n",
    "from torcheval import metrics\n",
    "\n",
    "set_output()\n",
    "toggle_mpl_cmap()"
   ]
  },
  {
   "cell_type": "code",
   "execution_count": 17,
   "metadata": {},
   "outputs": [],
   "source": [
    "from datasets import load_dataset\n",
    "\n",
    "dsd = load_dataset(\"daloopa/fashion-mnist-interview\")\n",
    "\n",
    "xl,yl = 'image','label'\n",
    "\n",
    "import torchvision.transforms.functional as TF\n",
    "\n",
    "xmean,xstd = 0.286, 0.353\n",
    "\n",
    "@inplace\n",
    "def transformi(b): b[xl] = [TF.pad(TF.to_tensor(o), (2,2,2,2))-0.5 for o in b[xl]]\n",
    "\n",
    "bs = 256\n",
    "tds = dsd.with_transform(transformi)\n",
    "dls = DataLoaders.from_dd(tds, batch_size=bs)"
   ]
  },
  {
   "cell_type": "code",
   "execution_count": 3,
   "metadata": {},
   "outputs": [],
   "source": [
    "betamin, betamax, nsteps = 0.0001, 0.02, 1000\n",
    "beta = torch.linspace(betamin, betamax, nsteps)\n",
    "alpha = 1 - beta\n",
    "alphabar = alpha.cumprod(dim=0)\n",
    "sigma = beta.sqrt()\n",
    "\n",
    "t = torch.randint(0, nsteps, (4,), dtype=torch.long)\n",
    "alphabar_t = alphabar[t]"
   ]
  },
  {
   "cell_type": "code",
   "execution_count": 4,
   "metadata": {},
   "outputs": [],
   "source": [
    "from tqdm.notebook import tqdm\n",
    "\n",
    "def noisify(x0, alphabar):\n",
    "    device = x0.device\n",
    "    bs = len(x0)\n",
    "    t = torch.randint(0, nsteps, (bs,), dtype=torch.long)\n",
    "    epsilon = torch.randn(x0.shape, device=device)\n",
    "    # expanding each alphabar_t to a single item in the batch\n",
    "    alphabar_t = alphabar[t][:, None, None, None]\n",
    "\n",
    "    # weighted average of original image and noise\n",
    "    xt = x0 * alphabar_t.sqrt() + (1 - alphabar_t).sqrt() * epsilon\n",
    "\n",
    "    # noised image, timestep : epsilon (noise target)\n",
    "    return xt, t.to(device), epsilon\n",
    "\n",
    "\n",
    "@torch.no_grad()\n",
    "def sample(model, sz, alpha, alphabar, sigma, nsteps):\n",
    "    device = next(model.parameters()).device\n",
    "    xt = torch.randn(sz, device=device)\n",
    "    preds = []\n",
    "\n",
    "    for t in tqdm(list(reversed(range(nsteps)))):\n",
    "        # contains a batch of items at time T. Starts at max (e.g. 1000) which is noise\n",
    "        t_batch = torch.full((sz[0],), t, device=device, dtype=torch.long)\n",
    "\n",
    "        if t == 0:  # final step, add no noise, use the image\n",
    "            z = torch.zeros_like(xt, device=device)\n",
    "            alphabar_t1 = torch.tensor(1)\n",
    "        else:\n",
    "            z = torch.randn_like(xt)\n",
    "            alphabar_t1 = alphabar[t - 1]\n",
    "\n",
    "        alpha_t = alpha[t]\n",
    "        alphabar_t = alphabar[t]\n",
    "        beta_t = 1 - alpha_t\n",
    "        betabar_t = 1 - alphabar_t\n",
    "        betabar_t1 = 1 - alphabar_t1\n",
    "        sigma_t = sigma[t]\n",
    "\n",
    "        noise_pred = model(xt, t_batch)  # previous image\n",
    "\n",
    "        # attempting to completely remove the noise\n",
    "        x0_hat = ( (xt - betabar_t.sqrt() * noise_pred) / alphabar_t.sqrt() ).clamp(-1, 1)\n",
    "\n",
    "        # how much we keep of the estimated noise\n",
    "        x0_coeff = alphabar_t1.sqrt() * beta_t / betabar_t\n",
    "\n",
    "        # how much we keep of the previous image\n",
    "        xt_ceoff = alpha_t.sqrt() * betabar_t1 / betabar_t\n",
    "\n",
    "        added_noise = sigma_t * z\n",
    "\n",
    "        # weighted average of the previous image and the estimated noise + added noise\n",
    "        xt = x0_hat * x0_coeff + xt * xt_ceoff + added_noise\n",
    "\n",
    "        # as we converge on t=0, our prediction of x0 will be more accurate,\n",
    "        # so we weight x0_coeff and less xt_coeff\n",
    "\n",
    "        preds.append(to_cpu(xt))\n",
    "    return preds"
   ]
  },
  {
   "cell_type": "code",
   "execution_count": 5,
   "metadata": {},
   "outputs": [],
   "source": [
    "from diffusers import UNet2DModel\n",
    "\n",
    "class UNet(UNet2DModel):\n",
    "    def forward(self, xb, t):\n",
    "        return super().forward(xb, t).sample # type: ignore\n",
    "\n",
    "ddpm_model = torch.load(\"fashion_ddpm_25epochs_large.pkl\")"
   ]
  },
  {
   "cell_type": "code",
   "execution_count": 6,
   "metadata": {},
   "outputs": [
    {
     "data": {
      "application/vnd.jupyter.widget-view+json": {
       "model_id": "0a39e6d796974aab98c3a5c6e6acc0e4",
       "version_major": 2,
       "version_minor": 0
      },
      "text/plain": [
       "  0%|          | 0/1000 [00:00<?, ?it/s]"
      ]
     },
     "metadata": {},
     "output_type": "display_data"
    },
    {
     "data": {
      "image/png": "[encoded data removed]",
      "text/plain": [
       "<Figure size 1200x1200 with 16 Axes>"
      ]
     },
     "metadata": {},
     "output_type": "display_data"
    }
   ],
   "source": [
    "samples = sample(ddpm_model, (bs, 1, 32, 32), alpha, alphabar, sigma, 1000)\n",
    "show_images(samples[-1][:16])"
   ]
  },
  {
   "cell_type": "markdown",
   "metadata": {},
   "source": [
    "## FID for realz"
   ]
  },
  {
   "cell_type": "code",
   "execution_count": 18,
   "metadata": {},
   "outputs": [
    {
     "data": {
      "text/plain": [
       "torch.Size([256, 1, 32, 32])"
      ]
     },
     "execution_count": 18,
     "metadata": {},
     "output_type": "execute_result"
    }
   ],
   "source": [
    "s = samples[-1]\n",
    "s.shape"
   ]
  },
  {
   "cell_type": "code",
   "execution_count": null,
   "metadata": {},
   "outputs": [],
   "source": []
  },
  {
   "cell_type": "code",
   "execution_count": 19,
   "metadata": {},
   "outputs": [],
   "source": [
    "def get_model():\n",
    "    act = partial(GeneralReLU, leak=0.1, sub=0.4)\n",
    "    # act = nn.ReLU\n",
    "    norm = nn.BatchNorm2d\n",
    "    drop = 0.4\n",
    "\n",
    "    layers = [\n",
    "        ResBlock(1, 16, ks=5, stride=1, act=act, norm=norm),\n",
    "        nn.Dropout2d(p=0.1),\n",
    "        ResBlock(16, 32, stride=2, act=act, norm=norm),\n",
    "        nn.Dropout2d(p=0.1),\n",
    "        ResBlock(32, 64, stride=2, act=act, norm=norm),\n",
    "        nn.Dropout2d(p=0.2),\n",
    "        ResBlock(64, 128, stride=2, act=act, norm=norm),\n",
    "        nn.Dropout2d(p=drop),\n",
    "        ResBlock(128, 256, stride=2, act=act, norm=norm),\n",
    "        nn.Dropout2d(p=drop),\n",
    "        ResBlock(256, 512, stride=2, act=act, norm=norm),\n",
    "        # nn.Dropout(p=drop),\n",
    "        nn.Flatten(),\n",
    "        # nn.Linear(512, 10, bias=False),\n",
    "        # nn.BatchNorm1d(10),\n",
    "    ]\n",
    "    return nn.Sequential(*layers)\n",
    "\n",
    "clf_model = get_model().eval()"
   ]
  },
  {
   "cell_type": "code",
   "execution_count": 34,
   "metadata": {},
   "outputs": [
    {
     "data": {
      "application/vnd.jupyter.widget-view+json": {
       "model_id": "69f7a25db7aa44329e4e449379e09d08",
       "version_major": 2,
       "version_minor": 0
      },
      "text/plain": [
       "Epoch:   0%|          | 0/1 [00:00<?, ?it/s]"
      ]
     },
     "metadata": {},
     "output_type": "display_data"
    },
    {
     "data": {
      "application/vnd.jupyter.widget-view+json": {
       "model_id": "ea01762d924e42b2b0e497d0e3de1b63",
       "version_major": 2,
       "version_minor": 0
      },
      "text/plain": [
       "Batch: 0it [00:00, ?it/s]"
      ]
     },
     "metadata": {},
     "output_type": "display_data"
    }
   ],
   "source": [
    "def always_zero(*x): return tensor(0., device=def_device)\n",
    "\n",
    "learn = Trainer(clf_model, dls, loss_func=always_zero, cbs=[NBatchCB(1)])\n",
    "learn.load(\"fashion-mnist-clf-dropout-aug.pkl\", strict=False)\n",
    "\n",
    "feats, _ = learn.capture_preds()\n",
    "\n",
    "learn = Trainer(clf_model, DataLoaders([], [(s, torch.zeros(s.size(0)))]), always_zero)\n",
    "learn.load(\"fashion-mnist-clf-dropout-aug.pkl\", strict=False)\n",
    "\n",
    "feats2, _ = learn.capture_preds()"
   ]
  },
  {
   "cell_type": "code",
   "execution_count": 29,
   "metadata": {},
   "outputs": [
    {
     "data": {
      "text/plain": [
       "torch.Size([256, 512])"
      ]
     },
     "execution_count": 29,
     "metadata": {},
     "output_type": "execute_result"
    }
   ],
   "source": [
    "feats2.shape"
   ]
  },
  {
   "cell_type": "code",
   "execution_count": 30,
   "metadata": {},
   "outputs": [
    {
     "data": {
      "text/plain": [
       "torch.Size([256, 512])"
      ]
     },
     "execution_count": 30,
     "metadata": {},
     "output_type": "execute_result"
    }
   ],
   "source": [
    "feats.shape"
   ]
  },
  {
   "cell_type": "code",
   "execution_count": 31,
   "metadata": {},
   "outputs": [],
   "source": [
    "def _calc_stats(feats):\n",
    "    feats.squeeze_()\n",
    "    return feats.mean(0), feats.T.cov()\n",
    "\n",
    "def _calc_fid(m1, c1, m2, c2):\n",
    "    csr = tensor(linalg.sqrtm(c1@c2, 256).real)\n",
    "    return (((m1-m2)**2).sum() + c1.trace() + c2.trace() - 2*csr.trace()).item()\n"
   ]
  },
  {
   "cell_type": "markdown",
   "metadata": {},
   "source": [
    "Jeremey's was 33. Bug somewhere?"
   ]
  },
  {
   "cell_type": "code",
   "execution_count": 32,
   "metadata": {},
   "outputs": [
    {
     "data": {
      "text/plain": [
       "4313.546875"
      ]
     },
     "execution_count": 32,
     "metadata": {},
     "output_type": "execute_result"
    }
   ],
   "source": [
    "s1, s2 = _calc_stats(feats), _calc_stats(feats2)\n",
    "\n",
    "_calc_fid(*s1, *s2)"
   ]
  }
 ],
 "metadata": {
  "kernelspec": {
   "display_name": "Python 3",
   "language": "python",
   "name": "python3"
  },
  "language_info": {
   "codemirror_mode": {
    "name": "ipython",
    "version": 3
   },
   "file_extension": ".py",
   "mimetype": "text/x-python",
   "name": "python",
   "nbconvert_exporter": "python",
   "pygments_lexer": "ipython3",
   "version": "3.11.7"
  }
 },
 "nbformat": 4,
 "nbformat_minor": 2
}
