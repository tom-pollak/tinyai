{
 "cells": [
  {
   "cell_type": "markdown",
   "id": "20f99d1c-cede-449d-85a1-722c2bcb1551",
   "metadata": {},
   "source": [
    "# Neural Networks in Pure Python"
   ]
  },
  {
   "cell_type": "code",
   "execution_count": null,
   "id": "989a8a3f-8e64-42cc-9b0a-a69f9dc52258",
   "metadata": {},
   "outputs": [],
   "source": [
    "from __future__ import annotations"
   ]
  },
  {
   "cell_type": "code",
   "execution_count": null,
   "id": "1c65b74a-6354-43b8-8af5-f9ad35e96daa",
   "metadata": {},
   "outputs": [
    {
     "ename": "IndentationError",
     "evalue": "expected an indented block after 'if' statement on line 93 (2921377912.py, line 97)",
     "output_type": "error",
     "traceback": [
      "\u001b[0;36m  Cell \u001b[0;32mIn[2], line 97\u001b[0;36m\u001b[0m\n\u001b[0;31m    if cur_rows == 1 and rows != 1:\u001b[0m\n\u001b[0m    ^\u001b[0m\n\u001b[0;31mIndentationError\u001b[0m\u001b[0;31m:\u001b[0m expected an indented block after 'if' statement on line 93\n"
     ]
    }
   ],
   "source": [
    "class Matrix:\n",
    "    \"Matrix implementation of dimensions 1 or 2\"\n",
    "    def __init__(self, x):\n",
    "        self._x = x\n",
    "        self.g = None\n",
    "\n",
    "    def __getitem__(self, idxs):\n",
    "        if isinstance(idxs, Matrix):\n",
    "            rows, cols = self.shape()\n",
    "            return Matrix([\n",
    "                [self[i,j] if bool(idxs[i,j]) else 0. for j in range(cols)]\n",
    "                for i in range(rows)])\n",
    "        else:\n",
    "            cur = self._x\n",
    "            if isinstance(idxs, int):\n",
    "                idxs = [idxs]\n",
    "            for ix in idxs:\n",
    "                cur = cur[ix]\n",
    "            return cur\n",
    "        raise NotImplementedError(\"invalid idxs\")\n",
    "\n",
    "    def __repr__(self):\n",
    "        return f\"Matrix {self.shape()}\\n{self._x}\"\n",
    "\n",
    "    def ndim(self):\n",
    "        dims = 0\n",
    "        cur = self._x\n",
    "        while True:\n",
    "            if isinstance(cur, list):\n",
    "                cur = cur[0]\n",
    "                dims+=1\n",
    "            else:\n",
    "                return dims\n",
    "                \n",
    "    def shape(self):\n",
    "        s = []\n",
    "        cur = self._x\n",
    "        for _ in range(self.ndim()):\n",
    "            s.append(len(cur))\n",
    "            cur = cur[0]\n",
    "        return tuple(s)\n",
    "        \n",
    "    def apply(self, f):\n",
    "        rows, cols = self.shape()\n",
    "        return Matrix([[f(self[i,j]) for j in range(cols)] for i in range(rows)])\n",
    "\n",
    "    def reduce(self, f, acc=0):\n",
    "        for x in self.flatten():\n",
    "            acc = f(acc, x)\n",
    "        return acc\n",
    "        \n",
    "    def op(self, f, other):\n",
    "        rows, cols = self.shape()\n",
    "        if isinstance(other, Matrix):\n",
    "            assert self.shape() == other.shape(), f\"got shapes: {self.shape()} {other.shape()}\"\n",
    "            return Matrix([[f(self[i,j], other[i,j]) for j in range(cols)] for i in range(rows)])\n",
    "        elif isinstance(float(other), float):\n",
    "            return Matrix([[f(self[i,j], other) for j in range(cols)] for i in range(rows)])\n",
    "        \n",
    "    def transpose(self):\n",
    "        rows, cols = self.shape()\n",
    "        new_x = Matrix.zeros(cols, rows)\n",
    "        for i in range(rows):\n",
    "            for j in range(cols):\n",
    "                new_x._x[j][i] = self[i, j]\n",
    "        return new_x\n",
    "\n",
    "    def __matmul__(self, other):\n",
    "        # (x, d) @ (d, y)\n",
    "        (x, d_x), (d_y, y) = self.shape(), other.shape()\n",
    "        assert d_x == d_y, f\"got shapes: {self.shape()} {other.shape()}\"; d = d_x\n",
    "        res = Matrix([[0 for _ in range(y)] for _ in range(x)])\n",
    "        # y_t = other.transpose() # y, d\n",
    "        for i in range(x):\n",
    "            for j in range(y):\n",
    "                \n",
    "                # dot(x[i], other[:, j])\n",
    "                # transposed matrix swapped rows and cols\n",
    "                # res._x[i][j] = dot(self._x[i], y_t[j])\n",
    "                \n",
    "                # or alternatively:\n",
    "                for k in range(d):\n",
    "                    res._x[i][j] += self[i, k] * other[k, j]\n",
    "        return res\n",
    "\n",
    "\n",
    "    def expand_dims(self, other):\n",
    "        cur_rows, cur_cols = self.shape()\n",
    "        rows, cols = other.shape()\n",
    "\n",
    "        res = Matrix.zeros_like(other)\n",
    "\n",
    "        if cur_cols == 1 and cols != 1:\n",
    "            # expand cols\n",
    "            \n",
    "            \n",
    "        if cur_rows == 1 and rows != 1:\n",
    "            # expand rows\n",
    "\n",
    "    \n",
    "    def dot(self, y):\n",
    "        assert self.ndim() == 1 and y.ndim() == 1\n",
    "        return sum(i*j for i, j in zip(self._x, y._x))\n",
    "\n",
    "    def __add__(self, y):\n",
    "        return self.op(lambda x,y: x + y, y)\n",
    "        \n",
    "    def __mul__(self, y):\n",
    "        return self.op(lambda x,y: x * y, y)\n",
    "        \n",
    "    def __sub__(self, y):\n",
    "        return self.op(lambda x,y: x - y, y)\n",
    "        \n",
    "    def __div__(self, y):\n",
    "        return self.op(lambda x,y: x / y, y)\n",
    "\n",
    "    def flatten(self):\n",
    "        return Matrix([x for row in self._x for x in row])\n",
    "        \n",
    "    def zero_grad_():\n",
    "        self.g = None\n",
    "        \n",
    "    @staticmethod\n",
    "    def zeros(rows, cols):\n",
    "        return Matrix([[0 for _ in range(cols)] for _ in range(rows)])\n",
    "\n",
    "    @staticmethod\n",
    "    def zeros_like(mat): return Matrix.zeros(*mat.shape())\n",
    "        "
   ]
  },
  {
   "cell_type": "code",
   "execution_count": null,
   "id": "e6c838aa-17e7-429d-a1de-4696fc02f1ad",
   "metadata": {},
   "outputs": [],
   "source": [
    "a = Matrix([[0, 1, 2, 3], [4, 5, 6, 7], [8, 9, 10, 11]])\n",
    "a * a"
   ]
  },
  {
   "cell_type": "code",
   "execution_count": null,
   "id": "50d7688e-f102-47ef-a100-5111b31c8588",
   "metadata": {},
   "outputs": [],
   "source": [
    "mask = a.apply(lambda x: x>6); mask"
   ]
  },
  {
   "cell_type": "code",
   "execution_count": null,
   "id": "abe4d920-4876-47e6-9a7f-2e7f48ad508b",
   "metadata": {},
   "outputs": [],
   "source": [
    "a.ndim()"
   ]
  },
  {
   "cell_type": "code",
   "execution_count": null,
   "id": "7b7cfd72-5585-44ec-b517-e0c20971bab9",
   "metadata": {},
   "outputs": [],
   "source": [
    "a.flatten()"
   ]
  },
  {
   "cell_type": "code",
   "execution_count": null,
   "id": "a72385fc-5617-4f75-b5b3-6551aee403a7",
   "metadata": {},
   "outputs": [],
   "source": [
    "a[mask]"
   ]
  },
  {
   "cell_type": "code",
   "execution_count": null,
   "id": "421514a4-d073-4b43-9bad-1ec24f05e38f",
   "metadata": {},
   "outputs": [],
   "source": [
    "a @ a.transpose()"
   ]
  },
  {
   "cell_type": "code",
   "execution_count": null,
   "id": "0e649633-8d1f-4d8f-b4cb-0aebdf9914d3",
   "metadata": {},
   "outputs": [],
   "source": [
    "a * 2"
   ]
  },
  {
   "cell_type": "code",
   "execution_count": null,
   "id": "ed3af7d8-ade2-46ff-9afb-67e5cb77fefd",
   "metadata": {},
   "outputs": [],
   "source": [
    "a.flatten()"
   ]
  },
  {
   "cell_type": "code",
   "execution_count": null,
   "id": "77a52bab-19ee-4b99-b9f7-866f5db018c0",
   "metadata": {},
   "outputs": [],
   "source": [
    "(a+1).reduce(lambda acc,x: acc * x, 1)"
   ]
  },
  {
   "cell_type": "code",
   "execution_count": null,
   "id": "7be7689a-538d-4054-abeb-cc49b5a9b1ae",
   "metadata": {},
   "outputs": [],
   "source": [
    "\n",
    "class Module:\n",
    "    def __init__(self): \n",
    "        self.modules = {}\n",
    "        self.g = 0\n",
    "\n",
    "    def __setattr__(self, k, v):\n",
    "        if not k.startswith(\"_\"):\n",
    "            self.modules[k] = v\n",
    "        super().__setattr__(k,v)\n",
    "\n",
    "    def named_children(self):\n",
    "        yield from self.modules.items()\n",
    "\n",
    "    def parameters(self):\n",
    "        for l in self.modules.values():\n",
    "            yield from l.parameters()\n",
    "    \n",
    "    def forward(self, *args): raise NotImplementedError()\n",
    "    def zero_grad_(self): self.g = 0\n",
    "        \n",
    "    def __call__(self, *inp: list[Matrix]):\n",
    "        self.inp = inp\n",
    "        self.out = self.forward(*inp)\n",
    "        return self.out\n",
    "\n",
    "    def backward():\n",
    "        self.bwd(self.out, *self.inp)\n",
    "        # for i in self.inp:\n",
    "            # i.backward()\n",
    "            \n",
    "        \n",
    "class Relu(Module):\n",
    "    def forward(self, x: Matrix): return x.apply(lambda i: max(0., i))\n",
    "    def bwd(self, out, inp): inp.g += (inp>0) * out.g\n",
    "\n",
    "class Linear(Module):\n",
    "    def __init__(self, w: Matrix, b: Matrix):\n",
    "        super().__init__()\n",
    "        self.w = w\n",
    "        self.b = b\n",
    "    \n",
    "    def forward(self, x: Matrix): return x @ self.w.transpose() + self.b\n",
    "        \n",
    "    def bwd(self, out, inp):\n",
    "        inp.g += out.g @ self.w.transpose()\n",
    "        self.w.g += out.g @ x.transpose()\n",
    "        self.b.g += out.g\n",
    "\n",
    "class MSE(Module):\n",
    "    def forward(self, inp: Matrix, targ: Matrix):\n",
    "        self.diff = (inp - targ)\n",
    "        xsq = self.diff.apply(lambda a: a**2)\n",
    "        return xsq / xsq_sum\n",
    "    \n",
    "    def bwd(self, out, inp):\n",
    "        inp.g += 2 * self.diff"
   ]
  },
  {
   "cell_type": "code",
   "execution_count": null,
   "id": "5200abf9-e14e-4110-a51d-62c0c4ffbda3",
   "metadata": {},
   "outputs": [],
   "source": [
    "l1 = Linear(Matrix([[10],[20],[30]]), Matrix([[0,0,0]]))\n",
    "l1(Matrix([[1],[2],[3]]))"
   ]
  },
  {
   "cell_type": "code",
   "execution_count": null,
   "id": "2d337af1-9869-4a15-b9dd-107131576f1f",
   "metadata": {},
   "outputs": [],
   "source": [
    "Matrix([[10,20,30]]).transpose()"
   ]
  },
  {
   "cell_type": "code",
   "execution_count": null,
   "id": "2874758b-e172-4e65-b38a-5a8c29f2e874",
   "metadata": {},
   "outputs": [],
   "source": [
    "Matrix([[10],[20],[30]]) @ "
   ]
  },
  {
   "cell_type": "code",
   "execution_count": null,
   "id": "ea9f4451-2e3d-4ed0-b247-42e1627fb593",
   "metadata": {},
   "outputs": [],
   "source": [
    "1 + 2"
   ]
  }
 ],
 "metadata": {
  "kernelspec": {
   "display_name": "python3",
   "language": "python",
   "name": "python3"
  }
 },
 "nbformat": 4,
 "nbformat_minor": 5
}
