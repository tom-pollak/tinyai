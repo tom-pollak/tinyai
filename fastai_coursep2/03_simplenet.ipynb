{
 "cells": [
  {
   "cell_type": "code",
   "execution_count": null,
   "id": "753e79d6-8178-44c0-b75e-08e783331fda",
   "metadata": {},
   "outputs": [],
   "source": [
    "import torch\n",
    "from torch import nn\n",
    "import torch.nn.functional as F"
   ]
  },
  {
   "cell_type": "code",
   "execution_count": null,
   "id": "a69ff259-9e4c-42eb-8ca6-39050b643ece",
   "metadata": {},
   "outputs": [],
   "source": [
    "from pathlib import Path\n",
    "path_data = Path('data')\n",
    "path_data.mkdir(exist_ok=True)\n",
    "path_gz = path_data / \"mnist.pkl.gzip\""
   ]
  },
  {
   "cell_type": "code",
   "execution_count": null,
   "id": "304ab949-e136-4c55-b992-3ae9ecaef38c",
   "metadata": {},
   "outputs": [],
   "source": [
    "import gzip\n",
    "import pickle\n",
    "with gzip.open(path_gz, 'rb') as f:\n",
    "    ((x_train, y_train), (x_valid, y_valid), _) = pickle.load(f, encoding='latin-1')\n",
    "\n",
    "(x_train, y_train, x_valid, y_valid) = map(torch.tensor, (x_train, y_train, x_valid, y_valid))\n"
   ]
  },
  {
   "cell_type": "code",
   "execution_count": null,
   "id": "8746e1d8-a75c-4458-81dc-cebffdb90b26",
   "metadata": {},
   "outputs": [
    {
     "data": {
      "text/plain": [
       "torch.Size([50000, 784])"
      ]
     },
     "execution_count": null,
     "metadata": {},
     "output_type": "execute_result"
    }
   ],
   "source": [
    "x_train.shape"
   ]
  },
  {
   "cell_type": "code",
   "execution_count": null,
   "id": "47c4bee4-6c3e-48ef-a6df-ad6ef1f8c9b2",
   "metadata": {},
   "outputs": [],
   "source": [
    "class MLP(nn.Module):\n",
    "    px_size = 784\n",
    "    def __init__(self, hidden_layers):\n",
    "        super().__init__()\n",
    "        \n",
    "        layers = []\n",
    "        inp_dim = self.px_size\n",
    "        for hd in hidden_layers:\n",
    "            layers += [nn.Linear(inp_dim, hd), nn.ReLU()]\n",
    "            inp_dim = hd\n",
    "            \n",
    "        self.layers = nn.Sequential(*layers)\n",
    "        self.clf = nn.Linear(inp_dim, 10)\n",
    "\n",
    "    def forward(self, x):\n",
    "        x = self.layers(x)\n",
    "        return self.clf(x)\n"
   ]
  },
  {
   "cell_type": "code",
   "execution_count": null,
   "id": "e1da1f61-697e-4781-b061-16ae75712f93",
   "metadata": {},
   "outputs": [],
   "source": [
    "def accuracy(xb, yb): return (xb.argmax(1) == yb).float().mean()\n",
    "\n",
    "def fit():\n",
    "    global model\n",
    "    global opt\n",
    "    global train_dl\n",
    "    global val_dl\n",
    "    epochs = 3\n",
    "    \n",
    "    for epoch in range(epochs):\n",
    "        print(f\"Epoch {epoch}:\")\n",
    "        for xb, yb in train_dl:\n",
    "            logits = model(xb)\n",
    "            loss = F.cross_entropy(logits, yb)\n",
    "            loss.backward()\n",
    "            opt.step()\n",
    "            opt.zero_grad()\n",
    "            \n",
    "\n",
    "        with torch.no_grad():\n",
    "            val_loss = []\n",
    "            val_accuracy = []\n",
    "            for xb, yb in val_dl:\n",
    "                val_logits = model(xb)\n",
    "                val_loss.append(F.cross_entropy(val_logits, yb))\n",
    "                val_accuracy.append(accuracy(val_logits, yb))\n",
    "                \n",
    "            print(f\"Loss: {sum(val_loss)/len(val_loss):.4f} Accuracy: {sum(val_accuracy)/len(val_loss):.4f}\")\n",
    "                "
   ]
  },
  {
   "cell_type": "code",
   "execution_count": null,
   "id": "29643cfd-80a1-4aea-8ba9-a150dc965db1",
   "metadata": {},
   "outputs": [],
   "source": [
    "class Optimizer:\n",
    "    def __init__(self, params, lr=0.5):\n",
    "        self.params = list(params)\n",
    "        self.lr = lr\n",
    "        \n",
    "    def step(self):\n",
    "        with torch.no_grad():\n",
    "            for p in self.params: p -= p.grad * self.lr\n",
    "\n",
    "    def zero_grad(self):\n",
    "        for p in self.params:\n",
    "            p.grad.data.zero_()\n"
   ]
  },
  {
   "cell_type": "code",
   "execution_count": null,
   "id": "9e1d7c5b-e9d4-4f6b-9cd4-e617339cc18b",
   "metadata": {},
   "outputs": [],
   "source": [
    "model = MLP([50])\n",
    "lr = 0.5\n",
    "opt = Optimizer(model.parameters(), lr)\n",
    "# opt = torch.optim.SGD(model.parameters(), lr)\n"
   ]
  },
  {
   "cell_type": "code",
   "execution_count": null,
   "id": "d9ffa921-7bde-4665-bc0d-fc713bde695f",
   "metadata": {},
   "outputs": [],
   "source": [
    "class Dataset:\n",
    "    def __init__(self, x, y):\n",
    "        self.x = x\n",
    "        self.y = y\n",
    "        assert len(self.x) == len(self.y)\n",
    "\n",
    "    def __getitem__(self, i):\n",
    "        return self.x[i], self.y[i]\n",
    "\n",
    "    def __len__(self):\n",
    "        return len(self.x)\n",
    "\n",
    "train_ds = Dataset(x_train, y_train)\n",
    "val_ds = Dataset(x_valid, y_valid)"
   ]
  },
  {
   "cell_type": "code",
   "execution_count": null,
   "id": "371f40f1-f0c9-4c8b-91b8-46721687a3ca",
   "metadata": {},
   "outputs": [
    {
     "data": {
      "text/plain": [
       "(tensor([[0., 0., 0.,  ..., 0., 0., 0.],\n",
       "         [0., 0., 0.,  ..., 0., 0., 0.],\n",
       "         [0., 0., 0.,  ..., 0., 0., 0.],\n",
       "         [0., 0., 0.,  ..., 0., 0., 0.],\n",
       "         [0., 0., 0.,  ..., 0., 0., 0.]]),\n",
       " tensor([5, 0, 4, 1, 9]))"
      ]
     },
     "execution_count": null,
     "metadata": {},
     "output_type": "execute_result"
    }
   ],
   "source": [
    "train_ds[:5]"
   ]
  },
  {
   "cell_type": "code",
   "execution_count": null,
   "id": "2e5bf0ef-998f-4d6e-bf87-50d23bf35dc2",
   "metadata": {},
   "outputs": [
    {
     "name": "stdout",
     "output_type": "stream",
     "text": [
      "0 40215\n",
      "1 41436\n",
      "2 42394\n",
      "3 43081\n",
      "4 4086\n",
      "5 40560\n",
      "6 5886\n",
      "7 32179\n",
      "8 6990\n",
      "9 17200\n",
      "10 22946\n"
     ]
    }
   ],
   "source": [
    "import random\n",
    "\n",
    "class Sampler:\n",
    "    def __init__(self, ds, shuffle=False):\n",
    "        self.n = len(ds)\n",
    "        self.ds = ds\n",
    "        self.shuffle = shuffle\n",
    "\n",
    "    def __iter__(self):\n",
    "        res = list(range(self.n))\n",
    "        if self.shuffle: random.shuffle(res)\n",
    "        return iter(res)\n",
    "\n",
    "ss = Sampler(train_ds, shuffle=False)\n",
    "ss_shuf = Sampler(train_ds, shuffle=True)\n",
    "\n",
    "for i, shuf_i in zip(ss, ss_shuf):\n",
    "    if i > 10: break\n",
    "    print(i, shuf_i)\n",
    "    \n"
   ]
  },
  {
   "cell_type": "code",
   "execution_count": null,
   "id": "31bdc4a5-8714-4bb8-8eec-ceeb50300294",
   "metadata": {},
   "outputs": [
    {
     "data": {
      "text/plain": [
       "\u001b[0;31mInit signature:\u001b[0m \u001b[0mislice\u001b[0m\u001b[0;34m(\u001b[0m\u001b[0mself\u001b[0m\u001b[0;34m,\u001b[0m \u001b[0;34m/\u001b[0m\u001b[0;34m,\u001b[0m \u001b[0;34m*\u001b[0m\u001b[0margs\u001b[0m\u001b[0;34m,\u001b[0m \u001b[0;34m**\u001b[0m\u001b[0mkwargs\u001b[0m\u001b[0;34m)\u001b[0m\u001b[0;34m\u001b[0m\u001b[0;34m\u001b[0m\u001b[0m\n",
       "\u001b[0;31mDocstring:\u001b[0m     \n",
       "islice(iterable, stop) --> islice object\n",
       "islice(iterable, start, stop[, step]) --> islice object\n",
       "\n",
       "Return an iterator whose next() method returns selected values from an\n",
       "iterable.  If start is specified, will skip all preceding elements;\n",
       "otherwise, start defaults to zero.  Step defaults to one.  If\n",
       "specified as another value, step determines how many values are\n",
       "skipped between successive calls.  Works like a slice() on a list\n",
       "but returns an iterator.\n",
       "\u001b[0;31mType:\u001b[0m           type\n",
       "\u001b[0;31mSubclasses:\u001b[0m     "
      ]
     },
     "metadata": {},
     "output_type": "display_data"
    }
   ],
   "source": [
    "from itertools import islice\n",
    "islice?\n"
   ]
  },
  {
   "cell_type": "code",
   "execution_count": null,
   "id": "9ec6d4d2-a1b4-47de-a3bb-613b63186f26",
   "metadata": {},
   "outputs": [],
   "source": [
    "it = iter(ss)"
   ]
  },
  {
   "cell_type": "code",
   "execution_count": null,
   "id": "012f9f5f-0234-4ffc-b987-7c8e3c99e2c5",
   "metadata": {},
   "outputs": [
    {
     "data": {
      "text/plain": [
       "[0, 1, 2, 3, 4]"
      ]
     },
     "execution_count": null,
     "metadata": {},
     "output_type": "execute_result"
    }
   ],
   "source": [
    "list(islice(it, 5))"
   ]
  },
  {
   "cell_type": "code",
   "execution_count": null,
   "id": "116047d8-0504-42a5-a1eb-9c46802bdccb",
   "metadata": {},
   "outputs": [
    {
     "name": "stdout",
     "output_type": "stream",
     "text": [
      "[49952, 49953, 49954, 49955, 49956, 49957, 49958, 49959, 49960, 49961, 49962, 49963, 49964, 49965, 49966, 49967, 49968, 49969, 49970, 49971, 49972, 49973, 49974, 49975, 49976, 49977, 49978, 49979, 49980, 49981, 49982, 49983]\n",
      "[40489, 44411, 43007, 32938, 41946, 2304, 43158, 4095, 46328, 48436, 1679, 4819, 22716, 33533, 6656, 10875, 49498, 10366, 26464, 8355, 46382, 46754, 46082, 45732, 36317, 13727, 9019, 46363, 10898, 45888, 16574, 29098]\n"
     ]
    }
   ],
   "source": [
    "class BatchSampler:\n",
    "    def __init__(self, ss, bs, drop_last=False):\n",
    "        self.ss = ss\n",
    "        self.bs = bs\n",
    "        self.drop_last = drop_last\n",
    "\n",
    "    def __iter__(self):\n",
    "        it = iter(self.ss)\n",
    "        for x in iter(lambda: list(islice(it, self.bs)), []):\n",
    "            if self.drop_last and len(x) != self.bs: return\n",
    "            yield x\n",
    "\n",
    "bs = 32\n",
    "bss = BatchSampler(ss, bs, True)\n",
    "bss_shuf = BatchSampler(ss_shuff, bs, True)\n",
    "\n",
    "for i, shuf_i in zip(bss, bss_shuf):\n",
    "    # print(i, shuf_i)\n",
    "    # if sum(i) > 200: break\n",
    "    pass\n",
    "print(i)\n",
    "print(shuf_i)\n",
    "    "
   ]
  },
  {
   "cell_type": "code",
   "execution_count": null,
   "id": "1b9b87fc-08ab-4aea-b3e7-07784b2d6eb3",
   "metadata": {},
   "outputs": [
    {
     "name": "stdout",
     "output_type": "stream",
     "text": [
      "torch.Size([32, 784]) torch.Size([32])\n",
      "torch.Size([32, 784]) torch.Size([32])\n",
      "torch.Size([32, 784]) torch.Size([32])\n",
      "torch.Size([32, 784]) torch.Size([32])\n",
      "torch.Size([32, 784]) torch.Size([32])\n",
      "torch.Size([32, 784]) torch.Size([32])\n",
      "torch.Size([32, 784]) torch.Size([32])\n",
      "torch.Size([32, 784]) torch.Size([32])\n",
      "torch.Size([32, 784]) torch.Size([32])\n",
      "torch.Size([32, 784]) torch.Size([32])\n",
      "torch.Size([32, 784]) torch.Size([32])\n"
     ]
    }
   ],
   "source": [
    "def collate(x):\n",
    "    xb, yb = zip(*x)\n",
    "    return torch.stack(xb), torch.stack(yb)\n",
    "\n",
    "class Dataloader:\n",
    "    def __init__(self, ds, bss):\n",
    "        self.ds = ds\n",
    "        self.bss = bss\n",
    "\n",
    "    def __iter__(self):\n",
    "         for b in self.bss:\n",
    "             yield collate([self.ds[i] for i in b])\n",
    "\n",
    "dl = Dataloader(train_ds, bss_shuf)\n",
    "\n",
    "for i, (xb, yb) in enumerate(dl):\n",
    "    if i > 10: break\n",
    "    print(xb.shape, yb.shape)\n"
   ]
  },
  {
   "cell_type": "code",
   "execution_count": null,
   "id": "4a83b572-129d-4c2a-862e-1218016687f4",
   "metadata": {},
   "outputs": [
    {
     "data": {
      "text/plain": [
       "<matplotlib.image.AxesImage>"
      ]
     },
     "execution_count": null,
     "metadata": {},
     "output_type": "execute_result"
    },
    {
     "data": {
      "image/png": "[encoded data removed]",
      "text/plain": [
       "<Figure size 640x480 with 1 Axes>"
      ]
     },
     "metadata": {},
     "output_type": "display_data"
    }
   ],
   "source": [
    "import matplotlib.pyplot as plt\n",
    "xb, yb = next(iter(dl))\n",
    "plt.imshow(xb[0].view(28, 28))"
   ]
  },
  {
   "cell_type": "code",
   "execution_count": null,
   "id": "5f48587d-effc-44f9-a1d2-f74f2847f1b6",
   "metadata": {},
   "outputs": [
    {
     "name": "stdout",
     "output_type": "stream",
     "text": [
      "Epoch 0:\n",
      "Loss: 0.1357 Accuracy: 0.9606\n",
      "Epoch 1:\n",
      "Loss: 0.1211 Accuracy: 0.9643\n",
      "Epoch 2:\n",
      "Loss: 0.1165 Accuracy: 0.9677\n",
      "Epoch 3:\n",
      "Loss: 0.1109 Accuracy: 0.9685\n",
      "Epoch 4:\n",
      "Loss: 0.1184 Accuracy: 0.9688\n",
      "Epoch 5:\n",
      "Loss: 0.1439 Accuracy: 0.9646\n",
      "Epoch 6:\n",
      "Loss: 0.1240 Accuracy: 0.9683\n",
      "Epoch 7:\n",
      "Loss: 0.1289 Accuracy: 0.9677\n"
     ]
    }
   ],
   "source": [
    "fit()"
   ]
  },
  {
   "cell_type": "markdown",
   "id": "cb4f6cab-17e4-4095-bd85-8f85ad63a4f6",
   "metadata": {},
   "source": [
    "## PyTorch Modules"
   ]
  },
  {
   "cell_type": "code",
   "execution_count": null,
   "id": "5c3fbac8-a191-4dae-ba88-3038e4a6c1bd",
   "metadata": {},
   "outputs": [],
   "source": [
    "from torch.utils.data import DataLoader, SequentialSampler, BatchSampler, RandomSampler"
   ]
  },
  {
   "cell_type": "code",
   "execution_count": null,
   "id": "5bb95566-ad8e-4227-96c0-25a6c5ce6724",
   "metadata": {},
   "outputs": [],
   "source": [
    "# train_samp = BatchSampler(RandomSampler(train_ds), bs, drop_last=False)\n",
    "# val_samp = BatchSampler(SequentialSampler(val_ds), bs, drop_last=False)\n",
    "# train_dl = DataLoader(train_ds, batch_sampler=train_samp)\n",
    "# val_dl = DataLoader(val_ds, batch_sampler=val_samp)\n",
    "\n",
    "# as BatchSampler is so common, you can pass batch_size and sampler rather than batch_sampler \n",
    "# train_dl = DataLoader(train_ds, bs, sampler=RandomSampler(train_ds))\n",
    "# val_dl = DataLoader(val_ds, bs, sampler=SequentialSampler(val_ds))\n",
    "\n",
    "# as RandomSampler is so common, you can just pass shuffle=True\n",
    "train_dl = DataLoader(train_ds, bs, shuffle=True, drop_last=True)\n",
    "val_dl = DataLoader(val_ds, bs, shuffle=False)"
   ]
  },
  {
   "cell_type": "code",
   "execution_count": null,
   "id": "1056be0f-f934-446c-947d-7dcce915f6c5",
   "metadata": {},
   "outputs": [
    {
     "name": "stdout",
     "output_type": "stream",
     "text": [
      "Epoch 0:\n",
      "Loss: 0.3271 Accuracy: 0.9675\n",
      "Epoch 1:\n",
      "Loss: 0.2844 Accuracy: 0.9691\n",
      "Epoch 2:\n",
      "Loss: 0.2976 Accuracy: 0.9693\n"
     ]
    }
   ],
   "source": [
    "fit()"
   ]
  },
  {
   "cell_type": "code",
   "execution_count": null,
   "id": "a61e8100-8e5b-40ce-a301-cb9bc266bace",
   "metadata": {},
   "outputs": [
    {
     "data": {
      "text/plain": [
       "(tensor([[0., 0., 0.,  ..., 0., 0., 0.],\n",
       "         [0., 0., 0.,  ..., 0., 0., 0.],\n",
       "         [0., 0., 0.,  ..., 0., 0., 0.]]),\n",
       " tensor([1, 0, 2]))"
      ]
     },
     "execution_count": null,
     "metadata": {},
     "output_type": "execute_result"
    }
   ],
   "source": [
    "# we can also use BatchSampler as a sampler as the Dataset comes precollated\n",
    "train_ds[[23,34,5]]"
   ]
  },
  {
   "cell_type": "code",
   "execution_count": null,
   "id": "cd68c856-ee2c-4a4b-bbc6-da5445980385",
   "metadata": {},
   "outputs": [],
   "source": [
    "train_dl = DataLoader(train_ds, bs, sampler=RandomSampler(train_ds))"
   ]
  },
  {
   "cell_type": "code",
   "execution_count": null,
   "id": "95f9c31b-50e4-4443-9f9a-4317835c34c3",
   "metadata": {},
   "outputs": [
    {
     "data": {
      "text/plain": [
       "(torch.Size([32, 784]), torch.Size([32]))"
      ]
     },
     "execution_count": null,
     "metadata": {},
     "output_type": "execute_result"
    }
   ],
   "source": [
    "it = iter(train_samp)\n",
    "x, y = train_ds[next(it)]\n",
    "x.shape, y.shape"
   ]
  },
  {
   "cell_type": "code",
   "execution_count": null,
   "id": "7d690439-6f77-4a3d-9d2e-e6b429be4ca2",
   "metadata": {},
   "outputs": [
    {
     "name": "stdout",
     "output_type": "stream",
     "text": [
      "tensor([[0., 0., 0.,  ..., 0., 0., 0.],\n",
      "        [0., 0., 0.,  ..., 0., 0., 0.],\n",
      "        [0., 0., 0.,  ..., 0., 0., 0.],\n",
      "        ...,\n",
      "        [0., 0., 0.,  ..., 0., 0., 0.],\n",
      "        [0., 0., 0.,  ..., 0., 0., 0.],\n",
      "        [0., 0., 0.,  ..., 0., 0., 0.]]) tensor([8, 1, 1, 2, 5, 9, 3, 4, 6, 8, 2, 1, 5, 8, 2, 4, 2, 3, 2, 7, 7, 0, 6, 9,\n",
      "        6, 6, 5, 2, 0, 6, 5, 3])\n"
     ]
    },
    {
     "data": {
      "text/plain": [
       "(torch.Size([32, 784]), torch.Size([32]))"
      ]
     },
     "execution_count": null,
     "metadata": {},
     "output_type": "execute_result"
    }
   ],
   "source": [
    "it = iter(train_dl)\n",
    "x,y = next(it)\n",
    "print(x, y)\n",
    "x.shape, y.shape"
   ]
  },
  {
   "cell_type": "code",
   "execution_count": null,
   "id": "24c1177a-b706-404d-8396-5d2d49c185f0",
   "metadata": {},
   "outputs": [
    {
     "name": "stdout",
     "output_type": "stream",
     "text": [
      "Epoch 0:\n",
      "Loss: 0.3254 Accuracy: 0.9682\n",
      "Epoch 1:\n",
      "Loss: 0.3413 Accuracy: 0.9702\n",
      "Epoch 2:\n",
      "Loss: 0.3184 Accuracy: 0.9691\n"
     ]
    }
   ],
   "source": [
    "fit()"
   ]
  },
  {
   "cell_type": "code",
   "execution_count": null,
   "id": "63c4e7a2-fc44-4b68-b9c3-177afb81aef3",
   "metadata": {},
   "outputs": [],
   "source": []
  }
 ],
 "metadata": {
  "kernelspec": {
   "display_name": "python3",
   "language": "python",
   "name": "python3"
  }
 },
 "nbformat": 4,
 "nbformat_minor": 5
}
