{
 "cells": [
  {
   "cell_type": "code",
   "execution_count": null,
   "id": "23618192-70cb-486a-8dda-a60588e275ef",
   "metadata": {},
   "outputs": [],
   "source": [
    "%load_ext autoreload\n",
    "%autoreload 2"
   ]
  },
  {
   "cell_type": "code",
   "execution_count": null,
   "id": "4783aef6-f5c8-41f9-bd72-3db7054cd3a8",
   "metadata": {},
   "outputs": [],
   "source": [
    "import fastcore.all as fc\n",
    "from fastai.vision.all import show_image, show_images\n",
    "from datasets import load_dataset\n",
    "\n",
    "import torch\n",
    "from torch import nn\n",
    "from torch import optim\n",
    "import torch.nn.functional as F\n",
    "import torchvision.transforms.functional as TF\n",
    "from torch.utils.data import DataLoader\n",
    "\n",
    "from tinyai.core import inplace, def_device, to_device\n",
    "from tinyai.training import fit, cross_entropy, collate_ds\n",
    "from tinyai.conv import conv"
   ]
  },
  {
   "cell_type": "code",
   "execution_count": null,
   "id": "e01e524d-3c32-4a0f-b7ed-b981a11073c0",
   "metadata": {},
   "outputs": [
    {
     "data": {
      "text/plain": [
       "DatasetDict({\n",
       "    train: Dataset({\n",
       "        features: ['image', 'label'],\n",
       "        num_rows: 60000\n",
       "    })\n",
       "    test: Dataset({\n",
       "        features: ['image', 'label'],\n",
       "        num_rows: 8000\n",
       "    })\n",
       "})"
      ]
     },
     "execution_count": null,
     "metadata": {},
     "output_type": "execute_result"
    }
   ],
   "source": [
    "dsd = load_dataset(\"daloopa/fashion-mnist-interview\")\n",
    "\n",
    "x,y = 'image','label'\n",
    "\n",
    "@inplace\n",
    "def transformi(b):\n",
    "    b[x] = [TF.to_tensor(o).flatten() for o in b[x]]\n",
    "\n",
    "bs = 1024\n",
    "tds = dsd.with_transform(transformi)\n",
    "tds"
   ]
  },
  {
   "cell_type": "code",
   "execution_count": null,
   "id": "5f21107e-0ff0-4d37-8507-3f5e9cf5b8c2",
   "metadata": {},
   "outputs": [],
   "source": [
    "from torch.utils.data import default_collate\n",
    "\n",
    "class DataLoaders:\n",
    "    def __init__(self, train_ds, valid_ds): self.train, self.valid = train_ds, valid_ds\n",
    "\n",
    "    @classmethod\n",
    "    def from_dd(cls, dd, batch_size, num_workers=1):\n",
    "        return cls(*[DataLoader(ds, batch_size=batch_size, num_workers=num_workers, collate_fn=collate_ds(ds)) for ds in dd.values()])"
   ]
  },
  {
   "cell_type": "code",
   "execution_count": null,
   "id": "43109014-0292-4da6-83fd-60666d58f26b",
   "metadata": {},
   "outputs": [],
   "source": [
    "# dls = DataLoaders.from_dd_one_batch_train(tds, bs, num_workers=1) # to overfit\n",
    "dls = DataLoaders.from_dd(tds, bs, num_workers=4)"
   ]
  },
  {
   "cell_type": "code",
   "execution_count": null,
   "id": "bc85f527-d825-4a8e-83bd-ba1c43a99e6d",
   "metadata": {},
   "outputs": [
    {
     "data": {
      "text/plain": [
       "device(type='cpu')"
      ]
     },
     "execution_count": null,
     "metadata": {},
     "output_type": "execute_result"
    }
   ],
   "source": [
    "xb, yb = next(iter(dls.train))\n",
    "xb.device"
   ]
  },
  {
   "cell_type": "code",
   "execution_count": null,
   "id": "8f457608-e66a-47b1-93ae-6edff263dd65",
   "metadata": {},
   "outputs": [],
   "source": [
    "class Metric:\n",
    "    def __init__(self): self.reset()\n",
    "\n",
    "    def add(self, inps, targs=None, n=1):\n",
    "        self.last = self.calc(inps, targs)\n",
    "        self.vals.append(self.last)\n",
    "        self.ns.append(n)\n",
    "        \n",
    "    def reset(self): self.vals, self.ns = [], []\n",
    "\n",
    "    def calc(self, inps, targs): return inps\n",
    "\n",
    "    @property\n",
    "    def value(self):\n",
    "        ns = torch.tensor(self.ns)\n",
    "        return (torch.tensor(self.vals) * ns).sum() / ns.sum()\n",
    "\n",
    "class Accuracy(Metric):\n",
    "    def __init__(self, argmax=False): \n",
    "        super().__init__()\n",
    "        self.argmax = argmax\n",
    "    def calc(self, inps, targs): \n",
    "        if self.argmax: inps = inps.argmax(dim=1)\n",
    "        return (inps == targs).float().mean()"
   ]
  },
  {
   "cell_type": "code",
   "execution_count": null,
   "id": "b9680f60-d94c-44c7-89a9-327ca3e602b6",
   "metadata": {},
   "outputs": [],
   "source": [
    "loss = Metric()\n",
    "acc = Accuracy()"
   ]
  },
  {
   "cell_type": "code",
   "execution_count": null,
   "id": "cf763073-d4ec-405f-868f-c6abe2a1b0aa",
   "metadata": {},
   "outputs": [],
   "source": [
    "xb, yb = torch.tensor([1,3,4,6,3,4,1,0,0,0]),  torch.tensor([1,3,4,6,3,4,1,0,0,1]) # 90%\n",
    "acc.add(xb, yb, xb.shape[0])"
   ]
  },
  {
   "cell_type": "code",
   "execution_count": null,
   "id": "d6b56bf3-a90f-4b3c-97e5-d417c26330d7",
   "metadata": {},
   "outputs": [
    {
     "data": {
      "text/plain": [
       "tensor(0.9000)"
      ]
     },
     "execution_count": null,
     "metadata": {},
     "output_type": "execute_result"
    }
   ],
   "source": [
    "acc.value"
   ]
  },
  {
   "cell_type": "code",
   "execution_count": null,
   "id": "8fc607c6-439b-4b6b-b50a-d20ee652c5a0",
   "metadata": {},
   "outputs": [
    {
     "data": {
      "text/plain": [
       "(tensor(0.6176), 0.6176470588235294)"
      ]
     },
     "execution_count": null,
     "metadata": {},
     "output_type": "execute_result"
    }
   ],
   "source": [
    "loss.add(0.6, n=32)\n",
    "loss.add(0.9, n=2)\n",
    "\n",
    "loss.value, (0.6*32+0.9*2)/(32+2)"
   ]
  },
  {
   "cell_type": "markdown",
   "id": "0e56e4b4-d25b-4baf-b47d-b3324af2b6d6",
   "metadata": {},
   "source": [
    "## Original Learner"
   ]
  },
  {
   "cell_type": "code",
   "execution_count": null,
   "id": "06ab76c5-945c-46bb-b56d-01f563ae124b",
   "metadata": {},
   "outputs": [],
   "source": [
    "class Learner:\n",
    "    def __init__(self, model, dls, loss_func, lr, opt_func=optim.SGD):\n",
    "        fc.store_attr()\n",
    "        self.model = model.to(def_device)\n",
    "        self.opt = self.opt_func(self.model.parameters(), lr=self.lr)\n",
    "\n",
    "    @torch.no_grad()\n",
    "    def calc_stats(self, xb, yb, preds, loss):\n",
    "        n = len(xb)\n",
    "        self.acc.append((preds.argmax(dim=1) == yb).float().sum()) # divide by n\n",
    "        self.losses.append(loss*n)\n",
    "        self.ns.append(n)\n",
    "\n",
    "    def one_batch(self, i, b):\n",
    "        xb,yb = to_device(b)\n",
    "        preds = self.model(xb)\n",
    "        loss = self.loss_func(preds, yb)\n",
    "        \n",
    "        if self.model.training:\n",
    "            loss.backward()\n",
    "            self.opt.step()\n",
    "            self.opt.zero_grad()\n",
    "            \n",
    "        self.calc_stats(xb, yb, preds, loss)\n",
    "\n",
    "    def log(self, train:bool, epoch):\n",
    "        n = sum(self.ns)\n",
    "        acc = sum(self.acc)/n\n",
    "        loss = sum(self.losses)/n\n",
    "        print(f\"{'Train' if train else 'Valid'} {epoch} loss: {loss:.4f}, accuracy: {acc:.4f}\")\n",
    "        \n",
    "    def one_epoch(self, epoch, train: bool):\n",
    "        if train:\n",
    "            model.train()\n",
    "            dl = self.dls.train\n",
    "        else:\n",
    "            model.eval()\n",
    "            dl = self.dls.valid\n",
    "\n",
    "        self.acc, self.losses, self.ns = [], [], []\n",
    "        for i, b in enumerate(dl): self.one_batch(i, b)\n",
    "        self.log(train, epoch)\n",
    "\n",
    "    def fit(self, n_epochs):\n",
    "        for epoch in range(n_epochs):\n",
    "            self.one_epoch(epoch, train=True)\n",
    "            self.one_epoch(epoch, train=False)"
   ]
  },
  {
   "cell_type": "code",
   "execution_count": null,
   "id": "8d0a55ec-6bc1-4691-a068-11c86ce02c62",
   "metadata": {},
   "outputs": [],
   "source": [
    "def get_model():\n",
    "    return nn.Sequential(\n",
    "        nn.Linear(28*28, 50), nn.ReLU(), nn.Linear(50, 10)\n",
    "    )"
   ]
  },
  {
   "cell_type": "code",
   "execution_count": null,
   "id": "f1f326cc-1c26-46e1-a03e-f67947ea233c",
   "metadata": {},
   "outputs": [],
   "source": [
    "model = get_model()\n",
    "learn = Learner(model, dls, cross_entropy, 0.5, optim.SGD)"
   ]
  },
  {
   "cell_type": "code",
   "execution_count": null,
   "id": "1af8e571-38f3-46a8-826b-93ed4bb21a5e",
   "metadata": {},
   "outputs": [
    {
     "name": "stderr",
     "output_type": "stream",
     "text": [
      "/Users/tom/fun/tinyai/tinyai/training.py:37: UserWarning: MPS: no support for int64 min/max ops, casting it to int32 (Triggered internally at /Users/runner/miniforge3/conda-bld/pytorch-recipe_1694493834224/work/aten/src/ATen/native/mps/operations/ReduceOps.mm:1271.)\n",
      "  target = F.one_hot(target).to(torch.int32).float()\n"
     ]
    },
    {
     "name": "stdout",
     "output_type": "stream",
     "text": [
      "Train 0 loss: 1.1980, accuracy: 0.5548\n",
      "Valid 0 loss: 0.8142, accuracy: 0.6734\n",
      "Train 1 loss: 0.6618, accuracy: 0.7513\n",
      "Valid 1 loss: 0.6399, accuracy: 0.7470\n",
      "Train 2 loss: 0.5823, accuracy: 0.7822\n",
      "Valid 2 loss: 0.6725, accuracy: 0.7525\n"
     ]
    }
   ],
   "source": [
    "learn.fit(3)"
   ]
  },
  {
   "cell_type": "markdown",
   "id": "76a878d7-fd14-4cc4-9a54-9bfdbe407ebf",
   "metadata": {},
   "source": [
    "## A more generic Learner"
   ]
  },
  {
   "cell_type": "code",
   "execution_count": null,
   "id": "47f2234c-a0ba-45b4-af20-193775fcd647",
   "metadata": {},
   "outputs": [],
   "source": [
    "from operator import attrgetter\n",
    "from functools import partial\n",
    "import fastcore.all as fc\n",
    "\n",
    "import torch\n",
    "from torch import optim\n",
    "\n",
    "class CancelFitException(Exception): pass\n",
    "class CancelBatchException(Exception): pass\n",
    "class CancelEpochException(Exception): pass\n",
    "    \n",
    "class Callback(): order = 0\n",
    "class TrainCB(Callback): \n",
    "    def __init__(self, n_inp=1): self.n_inp = n_inp\n",
    "    def predict(self, learn): learn.preds = learn.model(*learn.batch[:self.n_inp])\n",
    "    def get_loss(self, learn):\n",
    "        learn.loss = learn.loss_func(learn.preds, *learn.batch[self.n_inp:])\n",
    "    def backward(self, learn): learn.loss.backward()\n",
    "    def step(self, learn):\n",
    "        learn.opt.step()\n",
    "    def zero_grad(self, learn): learn.opt.zero_grad()\n",
    "\n",
    "class ToDeviceCB(Callback):\n",
    "    def before_fit(self, learn): learn.model = learn.model.to(def_device)\n",
    "    def before_batch(self, learn): learn.batch = to_device(learn.batch)\n",
    "\n",
    "\n",
    "class with_cbs:\n",
    "    def __init__(self, nm): self.nm = nm\n",
    "    def __call__(self, f):\n",
    "        def _inner(o, *args, **kwargs):\n",
    "            try:\n",
    "                o.callback(f'before_{self.nm}')\n",
    "                f(o, *args, **kwargs)\n",
    "                o.callback(f'after_{self.nm}')\n",
    "            except globals()[f'Cancel{self.nm.title()}Exception']: pass\n",
    "            finally: o.callback(f'cleanup_{self.nm}')\n",
    "        return _inner\n",
    "\n",
    "def run_cbs(cbs, method_nm, learn=None, ignored=None):\n",
    "    ignored = fc.L(ignored)\n",
    "    for cb in sorted(cbs, key=attrgetter('order')):\n",
    "        if type(cb).__name__ in ignored: continue\n",
    "        method = getattr(cb, method_nm, None)\n",
    "        if method is not None: method(learn)\n",
    "                \n",
    "class Learner:\n",
    "    def __init__(self, model, dls, loss_func=F.mse_loss, lr=0.1, cbs=None, opt_func=optim.SGD):\n",
    "        fc.store_attr()\n",
    "        self.model = model.to(def_device)\n",
    "        self.cbs = fc.L(cbs)\n",
    "\n",
    "    def fit(self, n_epochs, train=True, valid=True, cbs=None, lr=None, ignore_cbs=None):\n",
    "        self.ignore_cbs = fc.L(ignore_cbs)\n",
    "        cbs = fc.L(cbs)\n",
    "        for cb in cbs: self.cbs.append(cb)\n",
    "        try:\n",
    "            self.n_epochs = n_epochs\n",
    "            self.epochs = range(n_epochs)\n",
    "            if lr is None: lr = self.lr\n",
    "            self.opt = self.opt_func(self.model.parameters(), lr=lr)\n",
    "            self._fit(train, valid)\n",
    "        finally:\n",
    "            for cb in cbs: self.cbs.remove(cb)\n",
    "\n",
    "    @with_cbs('fit')\n",
    "    def _fit(self, train, valid):\n",
    "        for self.epoch in self.epochs:\n",
    "            if train: self.one_epoch(training=True)\n",
    "            if valid: torch.no_grad()(self.one_epoch)(training=False)\n",
    "\n",
    "    def one_epoch(self, training: bool):\n",
    "        self.model.train(training)\n",
    "        self.dl = self.dls.train if training else self.dls.valid\n",
    "        self._one_epoch()\n",
    "\n",
    "    @property\n",
    "    def training(self): return self.model.training\n",
    "\n",
    "    @with_cbs('epoch')\n",
    "    def _one_epoch(self):\n",
    "        for self.iter, self.batch in enumerate(self.dl): self._one_batch()\n",
    "\n",
    "    @with_cbs('batch')\n",
    "    def _one_batch(self):\n",
    "        self.predict()\n",
    "        self.callback('after_predict')\n",
    "        self.get_loss()\n",
    "        self.callback('after_loss')\n",
    "        if self.training:\n",
    "            self.backward()\n",
    "            self.callback('after_backward')\n",
    "            self.step()\n",
    "            self.callback('after_step')\n",
    "            self.zero_grad()\n",
    "\n",
    "    def callback(self, method_nm): run_cbs(self.cbs, method_nm, learn=self, ignored=self.ignore_cbs)\n",
    "        \n",
    "    def __getattr__(self, name):\n",
    "        if name in ('predict','get_loss','backward','step','zero_grad'): return partial(self.callback, name)\n",
    "        raise AttributeError(name)\n",
    "\n",
    "    def lr_find(self, gamma=1.3, max_mult=3, start_lr=1e-5, max_epochs=10):\n",
    "        self.fit(max_epochs, lr=start_lr, cbs=LRFinderCB(gamma, max_mult))"
   ]
  },
  {
   "cell_type": "code",
   "execution_count": null,
   "id": "e47b999d-f13b-4555-b814-bb8e05e54c08",
   "metadata": {},
   "outputs": [],
   "source": [
    "import pandas as pd\n",
    "\n",
    "from copy import copy\n",
    "from torcheval.metrics import MulticlassAccuracy, Mean\n",
    "from tinyai.core import to_cpu\n",
    "\n",
    "class MetricsCB(Callback):\n",
    "    show_train = False\n",
    "    def __init__(self, *ms, **metrics):\n",
    "        for o in ms: metrics[type(o).__name__] = o\n",
    "        self.metrics = metrics\n",
    "        self.loss = Mean()\n",
    "\n",
    "    def _log(self, log):\n",
    "        print(log)\n",
    "            \n",
    "    def before_fit(self, learn): \n",
    "        learn.metrics = self\n",
    "\n",
    "    def before_epoch(self, learn):\n",
    "        self.loss.reset()\n",
    "        for o in self.metrics.values():\n",
    "            o.reset()\n",
    "\n",
    "    def after_batch(self, learn):\n",
    "        x, y, *_ = to_cpu(learn.batch)\n",
    "        self.loss.update(to_cpu(learn.loss), weight=len(x))\n",
    "        for m in self.metrics.values():\n",
    "            m.update(to_cpu(learn.preds), y)\n",
    "\n",
    "    def after_epoch(self, learn):\n",
    "        if self.show_train or not learn.training:\n",
    "            log = dict(Epoch=learn.epoch, Train='train' if learn.model.training else 'eval', Loss=f\"{self.loss.compute().item():.4f}\",)\n",
    "            log.update({k: f\"{v.compute().item():.4f}\" for k,v in self.metrics.items()})\n",
    "            self._log(log)"
   ]
  },
  {
   "cell_type": "code",
   "execution_count": null,
   "id": "1c117f61-8528-4e3c-84e7-a68f40fd7270",
   "metadata": {},
   "outputs": [],
   "source": [
    "class EarlyStoppingCB(MetricsCB):\n",
    "    order = ProgressCB.order + 1\n",
    "    def __init__(self, patience=1, metric=None):\n",
    "        \"metric = None uses Validation Loss\"\n",
    "        if metric is None:\n",
    "            super().__init__()\n",
    "            self.metric = self.loss\n",
    "        else:\n",
    "            super().__init__(es_metric=metric)\n",
    "            self.metric = self.metrics[\"es_metric\"]\n",
    "        \n",
    "        self.init_patience = patience\n",
    "        self.patience = patience\n",
    "        self.best_metric = float('inf')\n",
    "        \n",
    "    def after_epoch(self, learn):\n",
    "        if not learn.training:\n",
    "            metric = self.metric.compute().item()\n",
    "            if metric > self.best_metric:\n",
    "                self.patience -= 1\n",
    "                if self.patience == 0:\n",
    "                    # print(f\"Early stopping on epoch {learn.epoch}: new loss {metric:.4f}, previous best {self.best_metric:.4f}\")\n",
    "                    raise CancelFitException()\n",
    "            else:\n",
    "                self.patience = self.init_patience\n",
    "                self.best_metric = metric\n"
   ]
  },
  {
   "cell_type": "code",
   "execution_count": null,
   "id": "3c6eb914-4ee4-4974-9e0e-65c496425754",
   "metadata": {},
   "outputs": [],
   "source": [
    "from fastprogress import progress_bar,master_bar\n",
    "import sys\n",
    "\n",
    "class ProgressCB(Callback):\n",
    "    order = MetricsCB.order+1\n",
    "    def __init__(self, plot=False): self.plot = plot\n",
    "    def before_fit(self, learn):\n",
    "        learn.epochs = self.mbar = master_bar(learn.epochs)\n",
    "        self.first = True\n",
    "        if hasattr(learn, 'metrics'): learn.metrics._log = self._log\n",
    "        self.losses = []\n",
    "        self.val_losses = []\n",
    "\n",
    "    def _log(self, d):\n",
    "        if self.first:\n",
    "            self.mbar.write(list(d), table=True)\n",
    "            self.first = False\n",
    "        self.mbar.write(list(d.values()), table=True)\n",
    "        sys.stdout.flush()\n",
    "\n",
    "    def cleanup_fit(self, learn):\n",
    "        learn.metrics.after_epoch(learn)\n",
    "\n",
    "    def before_epoch(self, learn): learn.dl = progress_bar(learn.dl, leave=False, parent=self.mbar)\n",
    "    def after_batch(self, learn):\n",
    "        learn.dl.comment = f'{learn.loss:.3f}'\n",
    "        if self.plot and hasattr(learn, 'metrics') and learn.training:\n",
    "            self.losses.append(learn.loss.item())\n",
    "            if self.val_losses: self.mbar.update_graph([[fc.L.range(self.losses), self.losses],[fc.L.range(learn.epoch).map(lambda x: (x+1)*len(learn.dls.train)), self.val_losses]])\n",
    "    \n",
    "    def after_epoch(self, learn): \n",
    "        if not learn.training:\n",
    "            if self.plot and hasattr(learn, 'metrics'): \n",
    "                self.val_losses.append(learn.metrics.loss.compute())\n",
    "                self.mbar.update_graph([[fc.L.range(self.losses), self.losses],[fc.L.range(learn.epoch+1).map(lambda x: (x+1)*len(learn.dls.train)), self.val_losses]])\n"
   ]
  },
  {
   "cell_type": "code",
   "execution_count": null,
   "id": "6b4e1581-b7ce-4728-9427-353d88c3a2f9",
   "metadata": {},
   "outputs": [
    {
     "data": {
      "text/html": [
       "\n",
       "<style>\n",
       "    /* Turns off some styling */\n",
       "    progress {\n",
       "        /* gets rid of default border in Firefox and Opera. */\n",
       "        border: none;\n",
       "        /* Needs to be in here for Safari polyfill so background images work as expected. */\n",
       "        background-size: auto;\n",
       "    }\n",
       "    progress:not([value]), progress:not([value])::-webkit-progress-bar {\n",
       "        background: repeating-linear-gradient(45deg, #7e7e7e, #7e7e7e 10px, #5c5c5c 10px, #5c5c5c 20px);\n",
       "    }\n",
       "    .progress-bar-interrupted, .progress-bar-interrupted::-webkit-progress-bar {\n",
       "        background: #F44336;\n",
       "    }\n",
       "</style>\n"
      ],
      "text/plain": [
       "<IPython.core.display.HTML object>"
      ]
     },
     "metadata": {},
     "output_type": "display_data"
    },
    {
     "data": {
      "text/html": [
       "\n",
       "    <div>\n",
       "      <progress value='4' class='' max='20' style='width:300px; height:20px; vertical-align: middle;'></progress>\n",
       "      20.00% [4/20 00:05&lt;00:22]\n",
       "    </div>\n",
       "    \n",
       "<table border=\"1\" class=\"dataframe\">\n",
       "  <thead>\n",
       "    <tr style=\"text-align: left;\">\n",
       "      <th>Epoch</th>\n",
       "      <th>Train</th>\n",
       "      <th>Loss</th>\n",
       "      <th>MulticlassAccuracy</th>\n",
       "    </tr>\n",
       "  </thead>\n",
       "  <tbody>\n",
       "    <tr>\n",
       "      <td>0</td>\n",
       "      <td>eval</td>\n",
       "      <td>2.3054</td>\n",
       "      <td>0.1013</td>\n",
       "    </tr>\n",
       "    <tr>\n",
       "      <td>1</td>\n",
       "      <td>eval</td>\n",
       "      <td>2.3024</td>\n",
       "      <td>0.1014</td>\n",
       "    </tr>\n",
       "    <tr>\n",
       "      <td>2</td>\n",
       "      <td>eval</td>\n",
       "      <td>2.3028</td>\n",
       "      <td>0.1014</td>\n",
       "    </tr>\n",
       "    <tr>\n",
       "      <td>3</td>\n",
       "      <td>eval</td>\n",
       "      <td>2.3028</td>\n",
       "      <td>0.1014</td>\n",
       "    </tr>\n",
       "  </tbody>\n",
       "</table><p>\n",
       "\n",
       "    <div>\n",
       "      <progress value='8' class='' max='8' style='width:300px; height:20px; vertical-align: middle;'></progress>\n",
       "      100.00% [8/8 00:00&lt;00:00 2.307]\n",
       "    </div>\n",
       "    "
      ],
      "text/plain": [
       "<IPython.core.display.HTML object>"
      ]
     },
     "metadata": {},
     "output_type": "display_data"
    }
   ],
   "source": [
    "model = get_model()\n",
    "learn = Learner(model, dls, cross_entropy, 1.5, cbs=[ToDeviceCB(), TrainCB(), MetricsCB(MulticlassAccuracy()), ProgressCB(plot=False), EarlyStoppingCB(patience=3)], opt_func=optim.SGD)\n",
    "learn.fit(20)"
   ]
  },
  {
   "cell_type": "code",
   "execution_count": null,
   "id": "f87dbf41-c8a5-4dc4-8a54-edbea8317b50",
   "metadata": {},
   "outputs": [],
   "source": [
    "from torch.optim.lr_scheduler import ExponentialLR\n",
    "import math\n",
    "import matplotlib.pyplot as plt\n",
    "from overrides import override\n",
    "\n",
    "class LRFinderCB(Callback):\n",
    "    def __init__(self, gamma=1.3, max_mult=3):\n",
    "        fc.store_attr()\n",
    "        super().__init__()\n",
    "\n",
    "    def before_fit(self, learn):\n",
    "        self.sched = ExponentialLR(learn.opt, gamma=self.gamma)\n",
    "        self.lrs, self.losses = [], []\n",
    "        self.min = float('inf')\n",
    "\n",
    "    def before_epoch(self, learn):\n",
    "        if not learn.training:\n",
    "            raise CancelEpochException()\n",
    "\n",
    "    def after_batch(self, learn):\n",
    "        loss = to_cpu(learn.loss)\n",
    "        self.lrs.append(learn.opt.param_groups[0]['lr'])\n",
    "        self.losses.append(loss)\n",
    "        if loss < self.min: self.min = loss\n",
    "        if math.isnan(loss) or loss > self.min * self.max_mult:\n",
    "            raise CancelFitException()\n",
    "        self.sched.step()\n",
    "\n",
    "    def cleanup_fit(self, learn):\n",
    "        plt.plot(self.lrs, self.losses)\n",
    "        plt.xscale('log')"
   ]
  },
  {
   "cell_type": "code",
   "execution_count": null,
   "id": "073c7eee-45f6-45a5-a911-2d1d86617d82",
   "metadata": {},
   "outputs": [
    {
     "data": {
      "text/html": [
       "\n",
       "<style>\n",
       "    /* Turns off some styling */\n",
       "    progress {\n",
       "        /* gets rid of default border in Firefox and Opera. */\n",
       "        border: none;\n",
       "        /* Needs to be in here for Safari polyfill so background images work as expected. */\n",
       "        background-size: auto;\n",
       "    }\n",
       "    progress:not([value]), progress:not([value])::-webkit-progress-bar {\n",
       "        background: repeating-linear-gradient(45deg, #7e7e7e, #7e7e7e 10px, #5c5c5c 10px, #5c5c5c 20px);\n",
       "    }\n",
       "    .progress-bar-interrupted, .progress-bar-interrupted::-webkit-progress-bar {\n",
       "        background: #F44336;\n",
       "    }\n",
       "</style>\n"
      ],
      "text/plain": [
       "<IPython.core.display.HTML object>"
      ]
     },
     "metadata": {},
     "output_type": "display_data"
    },
    {
     "data": {
      "text/html": [
       "\n",
       "    <div>\n",
       "      <progress value='0' class='' max='10' style='width:300px; height:20px; vertical-align: middle;'></progress>\n",
       "      0.00% [0/10 00:00&lt;?]\n",
       "    </div>\n",
       "    \n",
       "\n",
       "\n",
       "    <div>\n",
       "      <progress value='32' class='' max='59' style='width:300px; height:20px; vertical-align: middle;'></progress>\n",
       "      54.24% [32/59 00:00&lt;00:00 1.082]\n",
       "    </div>\n",
       "    "
      ],
      "text/plain": [
       "<IPython.core.display.HTML object>"
      ]
     },
     "metadata": {},
     "output_type": "display_data"
    },
    {
     "data": {
      "image/png": "[encoded data removed]",
      "text/plain": [
       "<Figure size 640x480 with 1 Axes>"
      ]
     },
     "metadata": {},
     "output_type": "display_data"
    }
   ],
   "source": [
    "model = get_model()\n",
    "learn = Learner(model, dls, cross_entropy, 0.5, cbs=[ToDeviceCB(), TrainCB(), EarlyStoppingCB(patience=3), MetricsCB(MulticlassAccuracy()), ProgressCB(plot=False)], opt_func=optim.AdamW)\n",
    "learn.lr_find()"
   ]
  },
  {
   "cell_type": "code",
   "execution_count": null,
   "id": "f6be6105-1cb0-4c23-9bc7-5e114bcddbf9",
   "metadata": {},
   "outputs": [],
   "source": []
  }
 ],
 "metadata": {
  "kernelspec": {
   "display_name": "python3",
   "language": "python",
   "name": "python3"
  }
 },
 "nbformat": 4,
 "nbformat_minor": 5
}
