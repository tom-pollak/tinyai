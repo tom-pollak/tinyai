{
 "cells": [
  {
   "cell_type": "code",
   "execution_count": null,
   "id": "b8815297-737d-40fd-ba6b-6a06f3b37306",
   "metadata": {},
   "outputs": [],
   "source": [
    "from datasets import load_dataset, load_dataset_builder"
   ]
  },
  {
   "cell_type": "code",
   "execution_count": null,
   "id": "cf5f76e9-fb5a-4ee1-b6c0-e5c500f54704",
   "metadata": {},
   "outputs": [
    {
     "data": {
      "text/plain": [
       "DatasetInfo(description='', citation='', homepage='', license='', features={'image': Image(decode=True, id=None), 'label': ClassLabel(names=['T - shirt / top', 'Trouser', 'Pullover', 'Dress', 'Coat', 'Sandal', 'Shirt', 'Sneaker', 'Bag', 'Ankle boot'], id=None)}, post_processed=None, supervised_keys=None, task_templates=None, builder_name='parquet', dataset_name='fashion-mnist-interview', config_name='default', version=0.0.0, splits={'train': SplitInfo(name='train', num_bytes=31049107.0, num_examples=60000, shard_lengths=None, dataset_name=None), 'test': SplitInfo(name='test', num_bytes=4150316.0, num_examples=8000, shard_lengths=None, dataset_name=None)}, download_checksums=None, download_size=33099036, post_processing_size=None, dataset_size=35199423.0, size_in_bytes=None)"
      ]
     },
     "execution_count": null,
     "metadata": {},
     "output_type": "execute_result"
    }
   ],
   "source": [
    "name = \"fashion_mnist\"\n",
    "name = \"wikimedia/wikipedia\"\n",
    "name = \"daloopa/fashion-mnist-interview\"\n",
    "ds_builder = load_dataset_builder(name)\n",
    "ds_builder.info"
   ]
  },
  {
   "cell_type": "code",
   "execution_count": null,
   "id": "2d50c9dc-c689-4bce-adb3-c3d0b27d5ef0",
   "metadata": {},
   "outputs": [
    {
     "data": {
      "text/plain": [
       "{'image': Image(decode=True, id=None),\n",
       " 'label': ClassLabel(names=['T - shirt / top', 'Trouser', 'Pullover', 'Dress', 'Coat', 'Sandal', 'Shirt', 'Sneaker', 'Bag', 'Ankle boot'], id=None)}"
      ]
     },
     "execution_count": null,
     "metadata": {},
     "output_type": "execute_result"
    }
   ],
   "source": [
    "ds_builder.info.features"
   ]
  },
  {
   "cell_type": "code",
   "execution_count": null,
   "id": "ae5d945b-e022-4974-8b20-83b917c48e16",
   "metadata": {},
   "outputs": [
    {
     "data": {
      "text/plain": [
       "{'train': SplitInfo(name='train', num_bytes=31049107.0, num_examples=60000, shard_lengths=None, dataset_name=None),\n",
       " 'test': SplitInfo(name='test', num_bytes=4150316.0, num_examples=8000, shard_lengths=None, dataset_name=None)}"
      ]
     },
     "execution_count": null,
     "metadata": {},
     "output_type": "execute_result"
    }
   ],
   "source": [
    "ds_builder.info.splits"
   ]
  },
  {
   "cell_type": "code",
   "execution_count": null,
   "id": "ff5d0703-367b-4338-94a4-9f4467fe697d",
   "metadata": {},
   "outputs": [
    {
     "data": {
      "application/vnd.jupyter.widget-view+json": {
       "model_id": "d139780fa826463cae4f3f20099b8080",
       "version_major": 2,
       "version_minor": 0
      },
      "text/plain": [
       "Downloading data:   0%|          | 0.00/29.2M [00:00<?, ?B/s]"
      ]
     },
     "metadata": {},
     "output_type": "display_data"
    },
    {
     "data": {
      "application/vnd.jupyter.widget-view+json": {
       "model_id": "6fc4042e998a4a10a21418a8d4711201",
       "version_major": 2,
       "version_minor": 0
      },
      "text/plain": [
       "Downloading data:   0%|          | 0.00/3.91M [00:00<?, ?B/s]"
      ]
     },
     "metadata": {},
     "output_type": "display_data"
    },
    {
     "data": {
      "application/vnd.jupyter.widget-view+json": {
       "model_id": "922dd0a85de24fb7992e4c953d733fc1",
       "version_major": 2,
       "version_minor": 0
      },
      "text/plain": [
       "Generating train split:   0%|          | 0/60000 [00:00<?, ? examples/s]"
      ]
     },
     "metadata": {},
     "output_type": "display_data"
    },
    {
     "data": {
      "application/vnd.jupyter.widget-view+json": {
       "model_id": "f3692e9701ff4176b420f2a0ffd2c3f6",
       "version_major": 2,
       "version_minor": 0
      },
      "text/plain": [
       "Generating test split:   0%|          | 0/8000 [00:00<?, ? examples/s]"
      ]
     },
     "metadata": {},
     "output_type": "display_data"
    }
   ],
   "source": [
    "dataset = load_dataset(name)"
   ]
  },
  {
   "cell_type": "code",
   "execution_count": null,
   "id": "f2f6b64b-7541-4e19-992c-add5a6b96cac",
   "metadata": {},
   "outputs": [
    {
     "data": {
      "text/plain": [
       "{'image': <PIL.PngImagePlugin.PngImageFile image mode=L size=28x28>,\n",
       " 'label': 9}"
      ]
     },
     "execution_count": null,
     "metadata": {},
     "output_type": "execute_result"
    }
   ],
   "source": [
    "train, test = dataset['train'], dataset['test']\n",
    "train[0]"
   ]
  },
  {
   "cell_type": "code",
   "execution_count": null,
   "id": "000d3cee-697d-4deb-a6ad-cf51357cba9a",
   "metadata": {},
   "outputs": [
    {
     "data": {
      "text/plain": [
       "('image', 'label')"
      ]
     },
     "execution_count": null,
     "metadata": {},
     "output_type": "execute_result"
    }
   ],
   "source": [
    "x,y = ds_builder.info.features # image, label\n",
    "x,y"
   ]
  },
  {
   "cell_type": "code",
   "execution_count": null,
   "id": "43f65a9b-4af7-409a-812e-f931c371122c",
   "metadata": {},
   "outputs": [
    {
     "data": {
      "image/jpeg": "[encoded data removed]",
      "image/png": "[encoded data removed]",
      "text/plain": [
       "<PIL.PngImagePlugin.PngImageFile image mode=L size=28x28>"
      ]
     },
     "execution_count": null,
     "metadata": {},
     "output_type": "execute_result"
    }
   ],
   "source": [
    "xb[0]"
   ]
  },
  {
   "cell_type": "code",
   "execution_count": null,
   "id": "ce12e1f7-6e1f-4ad2-a195-db5e429670c6",
   "metadata": {},
   "outputs": [
    {
     "data": {
      "text/plain": [
       "([<PIL.PngImagePlugin.PngImageFile image mode=L size=28x28>,\n",
       "  <PIL.PngImagePlugin.PngImageFile image mode=L size=28x28>,\n",
       "  <PIL.PngImagePlugin.PngImageFile image mode=L size=28x28>,\n",
       "  <PIL.PngImagePlugin.PngImageFile image mode=L size=28x28>,\n",
       "  <PIL.PngImagePlugin.PngImageFile image mode=L size=28x28>],\n",
       " [9, 0, 0, 3, 0])"
      ]
     },
     "execution_count": null,
     "metadata": {},
     "output_type": "execute_result"
    }
   ],
   "source": [
    "xb, yb = train[:5][x], train[:5][y]\n",
    "xb, yb"
   ]
  },
  {
   "cell_type": "code",
   "execution_count": null,
   "id": "464a04b8-0c68-4290-9143-103e94e5ef7b",
   "metadata": {},
   "outputs": [
    {
     "data": {
      "text/plain": [
       "['Ankle boot',\n",
       " 'T - shirt / top',\n",
       " 'T - shirt / top',\n",
       " 'Dress',\n",
       " 'T - shirt / top']"
      ]
     },
     "execution_count": null,
     "metadata": {},
     "output_type": "execute_result"
    }
   ],
   "source": [
    "train.features[y].int2str(yb)"
   ]
  },
  {
   "cell_type": "markdown",
   "id": "d517aaba-188b-4caf-bd90-760cd0b19259",
   "metadata": {},
   "source": [
    "## Collate"
   ]
  },
  {
   "cell_type": "markdown",
   "id": "5b29641c-778a-42a6-b884-43df248abf45",
   "metadata": {},
   "source": [
    "All prepocessing could be done in the `collate_fn`. This takes a batch as input and returns a type to be used by the model.\n",
    "\n",
    "This could be a tuple or dict (common in HF).\n",
    "\n",
    "pytorch has `default_collate` that works on tuple or dict\n",
    "\n",
    "This could do all the preprocessing on the batch, image augmentations etc."
   ]
  },
  {
   "cell_type": "code",
   "execution_count": null,
   "id": "09fd0822-f551-41b6-8eb4-20852d069146",
   "metadata": {},
   "outputs": [
    {
     "name": "stdout",
     "output_type": "stream",
     "text": [
      "[{'image': <PIL.PngImagePlugin.PngImageFile image mode=L size=28x28>, 'label': 9}, {'image': <PIL.PngImagePlugin.PngImageFile image mode=L size=28x28>, 'label': 0}, {'image': <PIL.PngImagePlugin.PngImageFile image mode=L size=28x28>, 'label': 0}, {'image': <PIL.PngImagePlugin.PngImageFile image mode=L size=28x28>, 'label': 3}, {'image': <PIL.PngImagePlugin.PngImageFile image mode=L size=28x28>, 'label': 0}, {'image': <PIL.PngImagePlugin.PngImageFile image mode=L size=28x28>, 'label': 2}, {'image': <PIL.PngImagePlugin.PngImageFile image mode=L size=28x28>, 'label': 7}, {'image': <PIL.PngImagePlugin.PngImageFile image mode=L size=28x28>, 'label': 2}, {'image': <PIL.PngImagePlugin.PngImageFile image mode=L size=28x28>, 'label': 5}, {'image': <PIL.PngImagePlugin.PngImageFile image mode=L size=28x28>, 'label': 5}, {'image': <PIL.PngImagePlugin.PngImageFile image mode=L size=28x28>, 'label': 0}, {'image': <PIL.PngImagePlugin.PngImageFile image mode=L size=28x28>, 'label': 9}, {'image': <PIL.PngImagePlugin.PngImageFile image mode=L size=28x28>, 'label': 5}, {'image': <PIL.PngImagePlugin.PngImageFile image mode=L size=28x28>, 'label': 5}, {'image': <PIL.PngImagePlugin.PngImageFile image mode=L size=28x28>, 'label': 7}, {'image': <PIL.PngImagePlugin.PngImageFile image mode=L size=28x28>, 'label': 9}, {'image': <PIL.PngImagePlugin.PngImageFile image mode=L size=28x28>, 'label': 1}, {'image': <PIL.PngImagePlugin.PngImageFile image mode=L size=28x28>, 'label': 0}, {'image': <PIL.PngImagePlugin.PngImageFile image mode=L size=28x28>, 'label': 6}, {'image': <PIL.PngImagePlugin.PngImageFile image mode=L size=28x28>, 'label': 4}, {'image': <PIL.PngImagePlugin.PngImageFile image mode=L size=28x28>, 'label': 3}, {'image': <PIL.PngImagePlugin.PngImageFile image mode=L size=28x28>, 'label': 1}, {'image': <PIL.PngImagePlugin.PngImageFile image mode=L size=28x28>, 'label': 4}, {'image': <PIL.PngImagePlugin.PngImageFile image mode=L size=28x28>, 'label': 8}, {'image': <PIL.PngImagePlugin.PngImageFile image mode=L size=28x28>, 'label': 4}, {'image': <PIL.PngImagePlugin.PngImageFile image mode=L size=28x28>, 'label': 3}, {'image': <PIL.PngImagePlugin.PngImageFile image mode=L size=28x28>, 'label': 0}, {'image': <PIL.PngImagePlugin.PngImageFile image mode=L size=28x28>, 'label': 2}, {'image': <PIL.PngImagePlugin.PngImageFile image mode=L size=28x28>, 'label': 4}, {'image': <PIL.PngImagePlugin.PngImageFile image mode=L size=28x28>, 'label': 4}, {'image': <PIL.PngImagePlugin.PngImageFile image mode=L size=28x28>, 'label': 5}, {'image': <PIL.PngImagePlugin.PngImageFile image mode=L size=28x28>, 'label': 3}]\n"
     ]
    },
    {
     "data": {
      "text/plain": [
       "(torch.Size([32, 1, 28, 28]), torch.Size([32]))"
      ]
     },
     "execution_count": null,
     "metadata": {},
     "output_type": "execute_result"
    }
   ],
   "source": [
    "import torch\n",
    "from torch.utils.data import DataLoader\n",
    "import torchvision.transforms.functional as TF\n",
    "\n",
    "def collate_fn(b):\n",
    "    #  [{'image': <PIL.PngImagePlugin.PngImageFile image mode=L size=28x28 at 0x2AF1BE3B0>, 'label': 9}, {'image': <PIL.PngImagePlugin.PngImageFile image mode=L size=28x28 at 0x2AF1BDF60>, 'label': 0},  ... ]\n",
    "    return {x: torch.stack([TF.to_tensor(o[x]) for o in b]), y: torch.tensor([o[y] for o in b])}\n",
    "\n",
    "dl = DataLoader(train, batch_size=32, collate_fn=collate_fn)\n",
    "b = next(iter(dl))\n",
    "b[x].shape, b[y].shape"
   ]
  },
  {
   "cell_type": "markdown",
   "id": "29c04275-b42a-4257-9c3e-717723caebb9",
   "metadata": {},
   "source": [
    "Or we can use transforms instead:"
   ]
  },
  {
   "cell_type": "code",
   "execution_count": null,
   "id": "9a78296f-1506-4d75-b46e-91ee44730961",
   "metadata": {},
   "outputs": [
    {
     "data": {
      "text/plain": [
       "{'image': <PIL.PngImagePlugin.PngImageFile image mode=L size=28x28>,\n",
       " 'label': 9}"
      ]
     },
     "execution_count": null,
     "metadata": {},
     "output_type": "execute_result"
    }
   ],
   "source": [
    "train[0]"
   ]
  },
  {
   "cell_type": "code",
   "execution_count": null,
   "id": "d94c6d20-b1dc-40b0-95b0-2526c0b96038",
   "metadata": {},
   "outputs": [],
   "source": [
    "def transforms(d):\n",
    "    # notice this is working on whole datasets, rather than individual batches\n",
    "    # above we indexed into \n",
    "    # {'image': [<PIL.PngImagePlugin.PngImageFile image mode=L size=28x28 at 0x2AF1BE080>, <PIL.PngImagePlugin.PngImageFile image mode=L size=28x28 at 0x2AF1BE8F0>, ... ],\n",
    "    #  'label': [9, 0, ... ]}\n",
    "    \n",
    "    d[x] = [TF.to_tensor(o) for o in d[x]] \n",
    "    return d # even though inplace, still have to return d"
   ]
  },
  {
   "cell_type": "code",
   "execution_count": null,
   "id": "45477fcc-bdd0-484c-b0ea-b9b601c2545a",
   "metadata": {},
   "outputs": [
    {
     "data": {
      "text/plain": [
       "(torch.Size([32, 1, 28, 28]), torch.Size([32]))"
      ]
     },
     "execution_count": null,
     "metadata": {},
     "output_type": "execute_result"
    }
   ],
   "source": [
    "tds = train.with_transform(transform=transforms) # this function is called on the fly (can be used for data aug)\n",
    "dl = DataLoader(tds, batch_size=32)\n",
    "b = next(iter(dl))\n",
    "b[x].shape, b[y].shape"
   ]
  },
  {
   "cell_type": "code",
   "execution_count": null,
   "id": "c509d0da-6b5a-4b68-9dc1-8cfc0721567e",
   "metadata": {},
   "outputs": [],
   "source": [
    "def inplace(f):\n",
    "    def _inner(x):\n",
    "        f(x)\n",
    "        return x\n",
    "    return _inner"
   ]
  },
  {
   "cell_type": "code",
   "execution_count": null,
   "id": "328a7fd5-224d-4927-9c67-643290953463",
   "metadata": {},
   "outputs": [],
   "source": [
    "@inplace\n",
    "def transfomi(d): d[x] = [TF.to_tensor(o).flatten() for o in d[x]] "
   ]
  },
  {
   "cell_type": "code",
   "execution_count": null,
   "id": "1da17618-2475-48c3-bec8-edfb84ec8d9c",
   "metadata": {},
   "outputs": [
    {
     "ename": "NameError",
     "evalue": "name 'itemgetter' is not defined",
     "output_type": "error",
     "traceback": [
      "\u001b[0;31m---------------------------------------------------------------------------\u001b[0m",
      "\u001b[0;31mNameError\u001b[0m                                 Traceback (most recent call last)",
      "Cell \u001b[0;32mIn[80], line 1\u001b[0m\n\u001b[0;32m----> 1\u001b[0m \u001b[43mitemgetter\u001b[49m(\u001b[38;5;28mdict\u001b[39m(a\u001b[38;5;241m=\u001b[39m\u001b[38;5;241m3\u001b[39m, b\u001b[38;5;241m=\u001b[39m\u001b[38;5;241m4\u001b[39m), \u001b[38;5;124m'\u001b[39m\u001b[38;5;124ma\u001b[39m\u001b[38;5;124m'\u001b[39m)\n",
      "\u001b[0;31mNameError\u001b[0m: name 'itemgetter' is not defined"
     ]
    }
   ],
   "source": [
    "itemgetter(dict(a=3, b=4), 'a')"
   ]
  },
  {
   "cell_type": "code",
   "execution_count": null,
   "id": "62243c80-421b-4f01-806a-75fd451cb505",
   "metadata": {},
   "outputs": [
    {
     "data": {
      "text/plain": [
       "(torch.Size([32, 784]), torch.Size([32]))"
      ]
     },
     "execution_count": null,
     "metadata": {},
     "output_type": "execute_result"
    }
   ],
   "source": [
    "tds = train.with_transform(transform=transfomi) # this function is called on the fly (can be used for data aug)\n",
    "dl = DataLoader(tds, batch_size=32)\n",
    "b = next(iter(dl))\n",
    "b[x].shape, b[y].shape"
   ]
  }
 ],
 "metadata": {
  "kernelspec": {
   "display_name": "python3",
   "language": "python",
   "name": "python3"
  }
 },
 "nbformat": 4,
 "nbformat_minor": 5
}
