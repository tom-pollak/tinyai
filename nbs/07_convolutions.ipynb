{
 "cells": [
  {
   "cell_type": "code",
   "execution_count": null,
   "id": "82f1aee0-ec58-46e1-a4fc-b0cac7a573d0",
   "metadata": {},
   "outputs": [],
   "source": [
    "from fastai.vision.core import show_image, show_images"
   ]
  },
  {
   "cell_type": "code",
   "execution_count": null,
   "id": "24fb2d37-8b4b-4fcd-8e88-4c9fdf50894f",
   "metadata": {},
   "outputs": [],
   "source": [
    "import torch\n",
    "from torch import tensor\n",
    "from torch import nn"
   ]
  },
  {
   "cell_type": "code",
   "execution_count": null,
   "id": "52c207e8-5a45-4510-bdcb-dacf3a08794d",
   "metadata": {},
   "outputs": [],
   "source": [
    "from pathlib import Path\n",
    "import gzip\n",
    "import pickle\n",
    "\n",
    "path_data = Path('data')\n",
    "path_gz = path_data/'mnist.pkl.gzip'\n",
    "with gzip.open(path_gz, 'rb') as f: ((x_train, y_train), (x_valid, y_valid), _) = pickle.load(f, encoding='latin-1')\n",
    "x_train, y_train, x_valid, y_valid = map(tensor, [x_train, y_train, x_valid, y_valid])\n",
    "     "
   ]
  },
  {
   "cell_type": "code",
   "execution_count": null,
   "id": "95f186c0-d0ee-4503-a355-abd7eedd740b",
   "metadata": {},
   "outputs": [
    {
     "data": {
      "text/plain": [
       "tensor([[-1, -1, -1],\n",
       "        [ 0,  0,  0],\n",
       "        [ 1,  1,  1]])"
      ]
     },
     "execution_count": null,
     "metadata": {},
     "output_type": "execute_result"
    }
   ],
   "source": [
    "top_edge = tensor([\n",
    "    [ -1, -1, -1 ],\n",
    "    [  0,  0,  0 ],\n",
    "    [  1,  1,  1 ]\n",
    "])\n",
    "top_edge"
   ]
  },
  {
   "cell_type": "code",
   "execution_count": null,
   "id": "aa78dfd4-d7db-4382-b2d9-c6af44433ce0",
   "metadata": {},
   "outputs": [
    {
     "data": {
      "text/plain": [
       "torch.Size([784])"
      ]
     },
     "execution_count": null,
     "metadata": {},
     "output_type": "execute_result"
    }
   ],
   "source": [
    "x = x_train[0]; x.shape"
   ]
  },
  {
   "cell_type": "code",
   "execution_count": null,
   "id": "c76683bc-3a6d-4c7e-a128-befda68f9128",
   "metadata": {},
   "outputs": [
    {
     "data": {
      "text/plain": [
       "<Axes: >"
      ]
     },
     "execution_count": null,
     "metadata": {},
     "output_type": "execute_result"
    },
    {
     "data": {
      "image/png": "[encoded data removed]",
      "text/plain": [
       "<Figure size 400x400 with 1 Axes>"
      ]
     },
     "metadata": {},
     "output_type": "display_data"
    }
   ],
   "source": [
    "show_image(x.view(28,28), figsize=(4,4), cmap='gray')"
   ]
  },
  {
   "cell_type": "code",
   "execution_count": null,
   "id": "ecfef35f-dfa1-4f5b-9b1a-f91c793ec260",
   "metadata": {},
   "outputs": [
    {
     "data": {
      "text/plain": [
       "(torch.Size([3, 3]), torch.Size([784]))"
      ]
     },
     "execution_count": null,
     "metadata": {},
     "output_type": "execute_result"
    }
   ],
   "source": [
    "top_edge.shape, x.shape"
   ]
  },
  {
   "cell_type": "markdown",
   "id": "06cdd210-f806-4ae9-8e9d-0c5b06ad01e6",
   "metadata": {},
   "source": [
    "top_edge, out_dim = 1, kernel = 3, stride = 1, inp_size = 28x28\n",
    "\n",
    "$$\n",
    "outsize = 28 - 3 + 1 = 26\n",
    "$$"
   ]
  },
  {
   "cell_type": "code",
   "execution_count": null,
   "id": "786eaebd-da9e-40bb-a21e-3765c5acc544",
   "metadata": {},
   "outputs": [],
   "source": [
    "x2d = x.reshape(28,28)\n",
    "out = torch.zeros(26,26)\n",
    "\n",
    "for i in range(26):\n",
    "    for j in range(26):\n",
    "        out[i,j] = (x2d[i:i+3, j:j+3] * top_edge).sum()"
   ]
  },
  {
   "cell_type": "code",
   "execution_count": null,
   "id": "094415ef-7e3d-43eb-8a65-3d04664e98a5",
   "metadata": {},
   "outputs": [
    {
     "data": {
      "text/plain": [
       "<Axes: >"
      ]
     },
     "execution_count": null,
     "metadata": {},
     "output_type": "execute_result"
    },
    {
     "data": {
      "image/png": "[encoded data removed]",
      "text/plain": [
       "<Figure size 400x400 with 1 Axes>"
      ]
     },
     "metadata": {},
     "output_type": "display_data"
    }
   ],
   "source": [
    "show_image(out, figsize=(4,4), cmap='gray')"
   ]
  },
  {
   "cell_type": "code",
   "execution_count": null,
   "id": "9ce5b7ad-2a14-4a46-8cd7-590dd494c337",
   "metadata": {},
   "outputs": [],
   "source": [
    "kernels = tensor([\n",
    "   [[ -1, -1, -1 ],\n",
    "    [  0,  0,  0 ],\n",
    "    [  1,  1,  1 ]],\n",
    "   [[  1,  1,  1 ],\n",
    "    [  0,  0,  0 ],\n",
    "    [ -1, -1, -1 ]],\n",
    "   [[ -1,  0,  1 ],\n",
    "    [ -1,  0,  1 ],\n",
    "    [ -1,  0,  1 ]],\n",
    "   [[  1,  0, -1 ],\n",
    "    [  1,  0, -1 ],\n",
    "    [  1,  0, -1 ]],\n",
    "]).float()\n",
    "\n",
    "\n",
    "out = torch.zeros(kernels.shape[0],26,26)\n",
    "\n",
    "for i in range(26):\n",
    "    for j in range(26):\n",
    "        # 3x3 * 2x3x3 => 2x3x3\n",
    "        out[:,i,j] = (x2d[i:i+3, j:j+3] * kernels).sum((1,2))\n"
   ]
  },
  {
   "cell_type": "code",
   "execution_count": null,
   "id": "52eff51e-d8c5-4183-96f2-26d5036e89ea",
   "metadata": {},
   "outputs": [
    {
     "data": {
      "image/png": "[encoded data removed]",
      "text/plain": [
       "<Figure size 800x400 with 4 Axes>"
      ]
     },
     "metadata": {},
     "output_type": "display_data"
    }
   ],
   "source": [
    "# show_images([out[0],out[1],out[2]], figsize=(8,4))\n",
    "show_images([out[0],out[1],out[2],out[3]], figsize=(8,4))"
   ]
  },
  {
   "cell_type": "code",
   "execution_count": null,
   "id": "b6bf8a6c-a557-49eb-91d1-da1dfee88ccc",
   "metadata": {},
   "outputs": [
    {
     "data": {
      "text/plain": [
       "(torch.Size([1, 9, 676]), torch.Size([4, 9]))"
      ]
     },
     "execution_count": null,
     "metadata": {},
     "output_type": "execute_result"
    }
   ],
   "source": [
    "import torch.nn.functional as F\n",
    "x_unf = F.unfold(x2d[None,None,:,:].float(), (3,3)) # input B,C,H,W (Grayscale so added channel)\n",
    "x_unf.shape, kernels.view(-1, 9).shape"
   ]
  },
  {
   "cell_type": "code",
   "execution_count": null,
   "id": "65cb8044-2204-4ff6-aa8e-8362973d9876",
   "metadata": {},
   "outputs": [
    {
     "name": "stdout",
     "output_type": "stream",
     "text": [
      "torch.Size([4, 9]) torch.Size([1, 9, 676])\n",
      "torch.Size([1, 4, 676])\n"
     ]
    },
    {
     "data": {
      "image/png": "[encoded data removed]",
      "text/plain": [
       "<Figure size 800x400 with 4 Axes>"
      ]
     },
     "metadata": {},
     "output_type": "display_data"
    }
   ],
   "source": [
    "# D,K @ B,K,P => B,D,P\n",
    "print(kernels.view(-1,9).shape, x_unf.shape)\n",
    "out = (kernels.view(-1, 9) @ x_unf)\n",
    "print(out.shape)\n",
    "out = out.squeeze().view(4,26,26)\n",
    "show_images([out[0],out[1],out[2],out[3]], figsize=(8,4))"
   ]
  },
  {
   "cell_type": "code",
   "execution_count": null,
   "id": "938bb139-cd8e-4c4b-9644-4eaa3253782b",
   "metadata": {},
   "outputs": [
    {
     "data": {
      "text/plain": [
       "(torch.Size([4, 3, 3]), torch.Size([28, 28]))"
      ]
     },
     "execution_count": null,
     "metadata": {},
     "output_type": "execute_result"
    }
   ],
   "source": [
    "kernels.shape, x2d.shape"
   ]
  },
  {
   "cell_type": "code",
   "execution_count": null,
   "id": "ea83d3fa-9a49-4b68-9b21-a6d9c2628200",
   "metadata": {},
   "outputs": [
    {
     "name": "stdout",
     "output_type": "stream",
     "text": [
      "torch.Size([1, 4, 26, 26])\n"
     ]
    },
    {
     "data": {
      "image/png": "[encoded data removed]",
      "text/plain": [
       "<Figure size 800x400 with 4 Axes>"
      ]
     },
     "metadata": {},
     "output_type": "display_data"
    }
   ],
   "source": [
    "out = F.conv2d(x2d[None,None,:,:].float(), kernels[:,None,:,:], )\n",
    "print(out.shape)\n",
    "out = out.squeeze(0)\n",
    "show_images([out[0],out[1],out[2],out[3]], figsize=(8,4))"
   ]
  },
  {
   "cell_type": "markdown",
   "id": "6172d1e2-54f2-458d-970d-a5be363d9143",
   "metadata": {},
   "source": [
    "- To keep input and output same size: `kernel_size // 2`\n",
    "- Stride of 2 halves output size"
   ]
  },
  {
   "cell_type": "code",
   "execution_count": null,
   "id": "5ac922a3-5f67-4721-963b-5b3a9be5aedd",
   "metadata": {},
   "outputs": [],
   "source": [
    "def conv(ni, nf, ks=3, stride=2, act=True):\n",
    "    res = nn.Conv2d(ni, nf, kernel_size=ks, stride=stride, padding=ks//2)\n",
    "    if act: res = nn.Sequential(res, nn.ReLU())\n",
    "    return res"
   ]
  },
  {
   "cell_type": "code",
   "execution_count": null,
   "id": "6f2a4d95-72b8-4ddd-888e-671f6f3d9eca",
   "metadata": {},
   "outputs": [],
   "source": [
    "simple_cnn = nn.Sequential(\n",
    "    conv(1,4),                # 14x14\n",
    "    conv(4,8),                # 7x7\n",
    "    conv(8,16),               # 4x4\n",
    "    conv(16,16),              # 2x2\n",
    "    conv(16,10, act=False),   # 1x1\n",
    "    nn.Flatten()\n",
    ")"
   ]
  },
  {
   "cell_type": "code",
   "execution_count": null,
   "id": "fcc7bd0a-7399-466c-9cf3-7b0c67faa1d1",
   "metadata": {},
   "outputs": [
    {
     "data": {
      "text/plain": [
       "torch.Size([5, 1, 28, 28])"
      ]
     },
     "execution_count": null,
     "metadata": {},
     "output_type": "execute_result"
    }
   ],
   "source": [
    "xb = x_train[:5].view(-1, 28,28)[:,None,:]\n",
    "xb.shape # B C H W"
   ]
  },
  {
   "cell_type": "code",
   "execution_count": null,
   "id": "798d1fa5-c2a0-48b5-a2d9-9e2c533ff70a",
   "metadata": {},
   "outputs": [
    {
     "data": {
      "text/plain": [
       "tensor([[-0.0478,  0.0830,  0.0365, -0.0461,  0.0169, -0.0197, -0.0495,  0.0595,\n",
       "         -0.0365, -0.0631],\n",
       "        [-0.0476,  0.0807,  0.0340, -0.0470,  0.0166, -0.0183, -0.0518,  0.0600,\n",
       "         -0.0352, -0.0632],\n",
       "        [-0.0483,  0.0808,  0.0346, -0.0478,  0.0160, -0.0212, -0.0522,  0.0599,\n",
       "         -0.0351, -0.0639],\n",
       "        [-0.0473,  0.0811,  0.0356, -0.0483,  0.0153, -0.0212, -0.0513,  0.0599,\n",
       "         -0.0357, -0.0655],\n",
       "        [-0.0488,  0.0823,  0.0344, -0.0461,  0.0143, -0.0193, -0.0525,  0.0619,\n",
       "         -0.0351, -0.0629]], grad_fn=<ReshapeAliasBackward0>)"
      ]
     },
     "execution_count": null,
     "metadata": {},
     "output_type": "execute_result"
    }
   ],
   "source": [
    "simple_cnn(xb)"
   ]
  },
  {
   "cell_type": "markdown",
   "id": "7eb870b9-f0a1-4454-b369-1b817217c4c5",
   "metadata": {},
   "source": [
    "Reshape whole dataset:"
   ]
  },
  {
   "cell_type": "code",
   "execution_count": null,
   "id": "2c9fde8e-354b-444c-abeb-5aef7cc7381c",
   "metadata": {},
   "outputs": [],
   "source": [
    "x_train = x_train.reshape(-1, 28, 28)[:, None, :, :]\n",
    "x_valid = x_valid.reshape(-1, 28, 28)[:, None, :, :]"
   ]
  },
  {
   "cell_type": "markdown",
   "id": "400e6766-d373-4cab-978e-61fe3dab7ddf",
   "metadata": {},
   "source": [
    "## Training"
   ]
  },
  {
   "cell_type": "code",
   "execution_count": null,
   "id": "92c31b97-1a7f-4f94-be55-9b94d8cb388d",
   "metadata": {},
   "outputs": [],
   "source": [
    "from torch.utils.data import DataLoader\n",
    "from torch import optim\n",
    "from tinyai.datasets import BasicDataset, get_dls\n",
    "from tinyai.core import to_device, def_device"
   ]
  },
  {
   "cell_type": "code",
   "execution_count": null,
   "id": "f16c000c-86b6-4261-877c-8555cd5ca4b5",
   "metadata": {},
   "outputs": [],
   "source": [
    "# gpu\n",
    "# x_train, y_train, x_valid, y_valid = map(to_device, (x_train, y_train, x_valid, y_valid))\n",
    "# simple_cnn = simple_cnn.to(def_device)"
   ]
  },
  {
   "cell_type": "code",
   "execution_count": null,
   "id": "d3903626-e5c6-4d73-beae-942f1d9c86f9",
   "metadata": {},
   "outputs": [],
   "source": [
    "train_ds = BasicDataset(x_train, y_train)\n",
    "valid_ds = BasicDataset(x_valid, y_valid)\n",
    "train_dl, valid_dl = get_dls(train_ds, valid_ds, bs=32)\n",
    "opt = optim.SGD(simple_cnn.parameters(), lr=0.4)"
   ]
  },
  {
   "cell_type": "code",
   "execution_count": null,
   "id": "7f96e7ce-6e9b-4fba-813a-0cbd363bbcd2",
   "metadata": {},
   "outputs": [],
   "source": [
    "from tinyai.training import fit"
   ]
  },
  {
   "cell_type": "code",
   "execution_count": null,
   "id": "f08f7892-aad0-462a-8261-768cf38351a2",
   "metadata": {},
   "outputs": [
    {
     "name": "stdout",
     "output_type": "stream",
     "text": [
      "Epoch 0:\n",
      "Val Loss: 0.2993 Val Accuracy: 0.9137\n",
      "Epoch 1:\n",
      "Val Loss: 0.1634 Val Accuracy: 0.9548\n",
      "Epoch 2:\n",
      "Val Loss: 0.2114 Val Accuracy: 0.9351\n"
     ]
    }
   ],
   "source": [
    "fit(3, simple_cnn, F.cross_entropy, train_dl, valid_dl, opt)"
   ]
  }
 ],
 "metadata": {
  "kernelspec": {
   "display_name": "python3",
   "language": "python",
   "name": "python3"
  }
 },
 "nbformat": 4,
 "nbformat_minor": 5
}
