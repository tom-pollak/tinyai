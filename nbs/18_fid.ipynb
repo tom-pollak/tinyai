{
 "cells": [
  {
   "cell_type": "markdown",
   "metadata": {},
   "source": [
    "# FID"
   ]
  },
  {
   "cell_type": "markdown",
   "metadata": {},
   "source": [
    "## Previous DDPM"
   ]
  },
  {
   "cell_type": "code",
   "execution_count": 1,
   "metadata": {},
   "outputs": [
    {
     "name": "stdout",
     "output_type": "stream",
     "text": [
      "setting cmap: gray_r\n"
     ]
    }
   ],
   "source": [
    "from tinyai import *\n",
    "\n",
    "import pickle,gzip,math,os,time,shutil,random,logging,torch\n",
    "import fastcore.all as fc,matplotlib as mpl,numpy as np,matplotlib.pyplot as plt\n",
    "from collections.abc import Mapping\n",
    "from pathlib import Path\n",
    "from functools import partial\n",
    "\n",
    "import timm\n",
    "import einops\n",
    "from fastcore.foundation import L\n",
    "import torchvision\n",
    "from torchvision import transforms\n",
    "import torchvision.transforms.functional as TF,torch.nn.functional as F\n",
    "from torch import tensor,nn,optim,Tensor\n",
    "from torch.utils.data import DataLoader,default_collate\n",
    "from torch.nn import init\n",
    "from torch.optim import lr_scheduler\n",
    "from torcheval import metrics\n",
    "\n",
    "set_output()\n",
    "toggle_mpl_cmap()"
   ]
  },
  {
   "cell_type": "code",
   "execution_count": 2,
   "metadata": {},
   "outputs": [],
   "source": [
    "from datasets import load_dataset\n",
    "\n",
    "dsd = load_dataset(\"daloopa/fashion-mnist-interview\")\n",
    "\n",
    "x,y = 'image','label'\n",
    "\n",
    "import torchvision.transforms.functional as TF\n",
    "\n",
    "xmean,xstd = 0.286, 0.353\n",
    "\n",
    "@inplace\n",
    "def transformi(b): b[x] = [TF.pad(TF.to_tensor(o), (2,2,2,2)) for o in b[x]]\n",
    "\n",
    "bs = 256\n",
    "tds = dsd.with_transform(transformi)\n",
    "dls = DataLoaders.from_dd(tds, batch_size=bs, num_workers=16, pin_memory=True)"
   ]
  },
  {
   "cell_type": "code",
   "execution_count": 3,
   "metadata": {},
   "outputs": [],
   "source": [
    "betamin, betamax, nsteps = 0.0001, 0.02, 1000\n",
    "beta = torch.linspace(betamin, betamax, nsteps)\n",
    "alpha = 1 - beta\n",
    "alphabar = alpha.cumprod(dim=0)\n",
    "sigma = beta.sqrt()\n",
    "\n",
    "bs = 4\n",
    "t = torch.randint(0, nsteps, (bs,), dtype=torch.long)\n",
    "alphabar_t = alphabar[t]"
   ]
  },
  {
   "cell_type": "code",
   "execution_count": 4,
   "metadata": {},
   "outputs": [],
   "source": [
    "from tqdm.notebook import tqdm\n",
    "\n",
    "def noisify(x0, alphabar):\n",
    "    device = x0.device\n",
    "    bs = len(x0)\n",
    "    t = torch.randint(0, nsteps, (bs,), dtype=torch.long)\n",
    "    epsilon = torch.randn(x0.shape, device=device)\n",
    "    # expanding each alphabar_t to a single item in the batch\n",
    "    alphabar_t = alphabar[t][:, None, None, None]\n",
    "\n",
    "    # weighted average of original image and noise\n",
    "    xt = x0 * alphabar_t.sqrt() + (1 - alphabar_t).sqrt() * epsilon\n",
    "\n",
    "    # noised image, timestep : epsilon (noise target)\n",
    "    return xt, t.to(device), epsilon\n",
    "\n",
    "\n",
    "@torch.no_grad()\n",
    "def sample(model, sz, alpha, alphabar, sigma, nsteps):\n",
    "    device = next(model.parameters()).device\n",
    "    xt = torch.randn(sz, device=device)\n",
    "    preds = []\n",
    "\n",
    "    for t in tqdm(list(reversed(range(nsteps)))):\n",
    "        # contains a batch of items at time T. Starts at max (e.g. 1000) which is noise\n",
    "        t_batch = torch.full((sz[0],), t, device=device, dtype=torch.long)\n",
    "\n",
    "        if t == 0:  # final step, add no noise, use the image\n",
    "            z = torch.zeros_like(xt, device=device)\n",
    "            alphabar_t1 = torch.tensor(1)\n",
    "        else:\n",
    "            z = torch.randn_like(xt)\n",
    "            alphabar_t1 = alphabar[t - 1]\n",
    "\n",
    "        alpha_t = alpha[t]\n",
    "        alphabar_t = alphabar[t]\n",
    "        beta_t = 1 - alpha_t\n",
    "        betabar_t = 1 - alphabar_t\n",
    "        betabar_t1 = 1 - alphabar_t1\n",
    "        sigma_t = sigma[t]\n",
    "\n",
    "        noise_pred = model(xt, t_batch)  # previous image\n",
    "\n",
    "        # attempting to completely remove the noise\n",
    "        x0_hat = ( (xt - betabar_t.sqrt() * noise_pred) / alphabar_t.sqrt() ).clamp(-1, 1)\n",
    "\n",
    "        # how much we keep of the estimated noise\n",
    "        x0_coeff = alphabar_t1.sqrt() * beta_t / betabar_t\n",
    "\n",
    "        # how much we keep of the previous image\n",
    "        xt_ceoff = alpha_t.sqrt() * betabar_t1 / betabar_t\n",
    "\n",
    "        added_noise = sigma_t * z\n",
    "\n",
    "        # weighted average of the previous image and the estimated noise + added noise\n",
    "        xt = x0_hat * x0_coeff + xt * xt_ceoff + added_noise\n",
    "\n",
    "        # as we converge on t=0, our prediction of x0 will be more accurate,\n",
    "        # so we weight x0_coeff and less xt_coeff\n",
    "\n",
    "        preds.append(to_cpu(xt))\n",
    "    return preds"
   ]
  },
  {
   "cell_type": "code",
   "execution_count": 5,
   "metadata": {},
   "outputs": [],
   "source": [
    "from diffusers import UNet2DModel\n",
    "\n",
    "class UNet(UNet2DModel):\n",
    "    def forward(self, xb, t):\n",
    "        return super().forward(xb, t).sample # type: ignore\n",
    "\n",
    "ddpm_model = torch.load(\"fashion_ddpm_5epochs.pkl\")"
   ]
  },
  {
   "cell_type": "code",
   "execution_count": 6,
   "metadata": {},
   "outputs": [
    {
     "data": {
      "application/vnd.jupyter.widget-view+json": {
       "model_id": "b2675b3492584beda17873d510a7fbc3",
       "version_major": 2,
       "version_minor": 0
      },
      "text/plain": [
       "  0%|          | 0/1000 [00:00<?, ?it/s]"
      ]
     },
     "metadata": {},
     "output_type": "display_data"
    },
    {
     "data": {
      "image/png": "[encoded data removed]",
      "text/plain": [
       "<Figure size 1200x1200 with 16 Axes>"
      ]
     },
     "metadata": {},
     "output_type": "display_data"
    }
   ],
   "source": [
    "bs = 256\n",
    "samples = sample(ddpm_model, (bs, 1, 32, 32), alpha, alphabar, sigma, 1000)\n",
    "show_images(samples[-1][:16])"
   ]
  },
  {
   "cell_type": "code",
   "execution_count": 7,
   "metadata": {},
   "outputs": [],
   "source": [
    "from datasets import load_dataset\n",
    "\n",
    "dsd = load_dataset(\"daloopa/fashion-mnist-interview\")\n",
    "\n",
    "x,y = 'image','label'\n",
    "\n",
    "import torchvision.transforms.functional as TF\n",
    "\n",
    "xmean,xstd = 0.286, 0.353\n",
    "\n",
    "@inplace\n",
    "def transformi(b): b[x] = [TF.pad(TF.to_tensor(o), (2,2,2,2)) for o in b[x]]\n",
    "\n",
    "bs = 256\n",
    "tds = dsd.with_transform(transformi)\n",
    "\n",
    "\n",
    "def collate_ddpm(b):\n",
    "    return noisify(default_collate(b)[x], alphabar)\n",
    "\n",
    "def dl_ddpm(ds, bs):\n",
    "    return DataLoader(ds, batch_size=bs, collate_fn=collate_ddpm, num_workers=16, pin_memory=True)\n",
    "\n",
    "dls = DataLoaders(MultDL(dl_ddpm(tds['train'], bs), 1), dl_ddpm(tds['test'], bs))"
   ]
  },
  {
   "cell_type": "markdown",
   "metadata": {},
   "source": [
    "## FID for realz"
   ]
  },
  {
   "cell_type": "code",
   "execution_count": 8,
   "metadata": {},
   "outputs": [
    {
     "data": {
      "text/plain": [
       "torch.Size([256, 1, 32, 32])"
      ]
     },
     "execution_count": 8,
     "metadata": {},
     "output_type": "execute_result"
    }
   ],
   "source": [
    "s = samples[-1]*2-1\n",
    "s.shape"
   ]
  },
  {
   "cell_type": "code",
   "execution_count": 9,
   "metadata": {},
   "outputs": [],
   "source": [
    "def get_model():\n",
    "    act = partial(GeneralReLU, leak=0.1, sub=0.4)\n",
    "    # act = nn.ReLU\n",
    "    norm = nn.BatchNorm2d\n",
    "    drop = 0.25\n",
    "\n",
    "    layers = [\n",
    "        ResBlock(1, 16, ks=5, stride=1, act=act, norm=norm),\n",
    "        ResBlock(16, 32, stride=2, act=act, norm=norm),\n",
    "        ResBlock(32, 64, stride=2, act=act, norm=norm),\n",
    "        ResBlock(64, 128, stride=2, act=act, norm=norm),\n",
    "        ResBlock(128, 256, stride=2, act=act, norm=norm),\n",
    "        nn.Dropout(p=drop),\n",
    "        ResBlock(256, 512, stride=2, act=act, norm=norm),\n",
    "        # get features\n",
    "        # nn.Dropout(p=drop),\n",
    "        nn.Flatten(),\n",
    "        # nn.Linear(512, 10, bias=False),\n",
    "        # nn.BatchNorm1d(10),\n",
    "    ]\n",
    "    return nn.Sequential(*layers)\n",
    "\n",
    "clf_model = get_model()"
   ]
  },
  {
   "cell_type": "code",
   "execution_count": 15,
   "metadata": {},
   "outputs": [
    {
     "ename": "ModuleNotFoundError",
     "evalue": "No module named 'tinyai.nn'",
     "output_type": "error",
     "traceback": [
      "\u001b[0;31m---------------------------------------------------------------------------\u001b[0m",
      "\u001b[0;31mModuleNotFoundError\u001b[0m                       Traceback (most recent call last)",
      "Cell \u001b[0;32mIn[15], line 5\u001b[0m\n\u001b[1;32m      2\u001b[0m \u001b[38;5;28;01mdef\u001b[39;00m \u001b[38;5;21malways_zero\u001b[39m(\u001b[38;5;241m*\u001b[39mx): \u001b[38;5;28;01mreturn\u001b[39;00m tensor(\u001b[38;5;241m0.\u001b[39m)\n\u001b[1;32m      4\u001b[0m learn \u001b[38;5;241m=\u001b[39m Trainer(clf_model, DataLoaders([], [(s, torch\u001b[38;5;241m.\u001b[39mzeros(s\u001b[38;5;241m.\u001b[39msize(\u001b[38;5;241m0\u001b[39m)))]), always_zero, model_dir\u001b[38;5;241m=\u001b[39m\u001b[38;5;124m\"\u001b[39m\u001b[38;5;124m./\u001b[39m\u001b[38;5;124m\"\u001b[39m)\n\u001b[0;32m----> 5\u001b[0m \u001b[43mlearn\u001b[49m\u001b[38;5;241;43m.\u001b[39;49m\u001b[43mload\u001b[49m\u001b[43m(\u001b[49m\u001b[38;5;124;43m\"\u001b[39;49m\u001b[38;5;124;43mmnist_clf.pkl\u001b[39;49m\u001b[38;5;124;43m\"\u001b[39;49m\u001b[43m)\u001b[49m\n",
      "File \u001b[0;32m~/fun/tinyai/tinyai/learner.py:212\u001b[0m, in \u001b[0;36mLearner.load\u001b[0;34m(self, fn)\u001b[0m\n\u001b[1;32m    211\u001b[0m \u001b[38;5;28;01mdef\u001b[39;00m \u001b[38;5;21mload\u001b[39m(\u001b[38;5;28mself\u001b[39m, fn):\n\u001b[0;32m--> 212\u001b[0m     \u001b[38;5;28mself\u001b[39m\u001b[38;5;241m.\u001b[39mmodel\u001b[38;5;241m.\u001b[39mload_state_dict(\u001b[43mtorch\u001b[49m\u001b[38;5;241;43m.\u001b[39;49m\u001b[43mload\u001b[49m\u001b[43m(\u001b[49m\u001b[38;5;28;43mself\u001b[39;49m\u001b[38;5;241;43m.\u001b[39;49m\u001b[43mmodel_dir\u001b[49m\u001b[43m \u001b[49m\u001b[38;5;241;43m/\u001b[39;49m\u001b[43m \u001b[49m\u001b[43mfn\u001b[49m\u001b[43m)\u001b[49m)\n",
      "File \u001b[0;32m~/micromamba/envs/tinyai/lib/python3.11/site-packages/torch/serialization.py:1014\u001b[0m, in \u001b[0;36mload\u001b[0;34m(f, map_location, pickle_module, weights_only, mmap, **pickle_load_args)\u001b[0m\n\u001b[1;32m   1012\u001b[0m             \u001b[38;5;28;01mexcept\u001b[39;00m \u001b[38;5;167;01mRuntimeError\u001b[39;00m \u001b[38;5;28;01mas\u001b[39;00m e:\n\u001b[1;32m   1013\u001b[0m                 \u001b[38;5;28;01mraise\u001b[39;00m pickle\u001b[38;5;241m.\u001b[39mUnpicklingError(UNSAFE_MESSAGE \u001b[38;5;241m+\u001b[39m \u001b[38;5;28mstr\u001b[39m(e)) \u001b[38;5;28;01mfrom\u001b[39;00m \u001b[38;5;28;01mNone\u001b[39;00m\n\u001b[0;32m-> 1014\u001b[0m         \u001b[38;5;28;01mreturn\u001b[39;00m \u001b[43m_load\u001b[49m\u001b[43m(\u001b[49m\u001b[43mopened_zipfile\u001b[49m\u001b[43m,\u001b[49m\n\u001b[1;32m   1015\u001b[0m \u001b[43m                     \u001b[49m\u001b[43mmap_location\u001b[49m\u001b[43m,\u001b[49m\n\u001b[1;32m   1016\u001b[0m \u001b[43m                     \u001b[49m\u001b[43mpickle_module\u001b[49m\u001b[43m,\u001b[49m\n\u001b[1;32m   1017\u001b[0m \u001b[43m                     \u001b[49m\u001b[43moverall_storage\u001b[49m\u001b[38;5;241;43m=\u001b[39;49m\u001b[43moverall_storage\u001b[49m\u001b[43m,\u001b[49m\n\u001b[1;32m   1018\u001b[0m \u001b[43m                     \u001b[49m\u001b[38;5;241;43m*\u001b[39;49m\u001b[38;5;241;43m*\u001b[39;49m\u001b[43mpickle_load_args\u001b[49m\u001b[43m)\u001b[49m\n\u001b[1;32m   1019\u001b[0m \u001b[38;5;28;01mif\u001b[39;00m mmap:\n\u001b[1;32m   1020\u001b[0m     \u001b[38;5;28;01mraise\u001b[39;00m \u001b[38;5;167;01mRuntimeError\u001b[39;00m(\u001b[38;5;124m\"\u001b[39m\u001b[38;5;124mmmap can only be used with files saved with \u001b[39m\u001b[38;5;124m\"\u001b[39m,\n\u001b[1;32m   1021\u001b[0m                        \u001b[38;5;124m\"\u001b[39m\u001b[38;5;124m`torch.save(_use_new_zipfile_serialization=True), \u001b[39m\u001b[38;5;124m\"\u001b[39m\n\u001b[1;32m   1022\u001b[0m                        \u001b[38;5;124m\"\u001b[39m\u001b[38;5;124mplease torch.save your checkpoint with this option in order to use mmap.\u001b[39m\u001b[38;5;124m\"\u001b[39m)\n",
      "File \u001b[0;32m~/micromamba/envs/tinyai/lib/python3.11/site-packages/torch/serialization.py:1422\u001b[0m, in \u001b[0;36m_load\u001b[0;34m(zip_file, map_location, pickle_module, pickle_file, overall_storage, **pickle_load_args)\u001b[0m\n\u001b[1;32m   1420\u001b[0m unpickler \u001b[38;5;241m=\u001b[39m UnpicklerWrapper(data_file, \u001b[38;5;241m*\u001b[39m\u001b[38;5;241m*\u001b[39mpickle_load_args)\n\u001b[1;32m   1421\u001b[0m unpickler\u001b[38;5;241m.\u001b[39mpersistent_load \u001b[38;5;241m=\u001b[39m persistent_load\n\u001b[0;32m-> 1422\u001b[0m result \u001b[38;5;241m=\u001b[39m \u001b[43munpickler\u001b[49m\u001b[38;5;241;43m.\u001b[39;49m\u001b[43mload\u001b[49m\u001b[43m(\u001b[49m\u001b[43m)\u001b[49m\n\u001b[1;32m   1424\u001b[0m torch\u001b[38;5;241m.\u001b[39m_utils\u001b[38;5;241m.\u001b[39m_validate_loaded_sparse_tensors()\n\u001b[1;32m   1425\u001b[0m torch\u001b[38;5;241m.\u001b[39m_C\u001b[38;5;241m.\u001b[39m_log_api_usage_metadata(\n\u001b[1;32m   1426\u001b[0m     \u001b[38;5;124m\"\u001b[39m\u001b[38;5;124mtorch.load.metadata\u001b[39m\u001b[38;5;124m\"\u001b[39m, {\u001b[38;5;124m\"\u001b[39m\u001b[38;5;124mserialization_id\u001b[39m\u001b[38;5;124m\"\u001b[39m: zip_file\u001b[38;5;241m.\u001b[39mserialization_id()}\n\u001b[1;32m   1427\u001b[0m )\n",
      "File \u001b[0;32m~/micromamba/envs/tinyai/lib/python3.11/site-packages/torch/serialization.py:1415\u001b[0m, in \u001b[0;36m_load.<locals>.UnpicklerWrapper.find_class\u001b[0;34m(self, mod_name, name)\u001b[0m\n\u001b[1;32m   1413\u001b[0m         \u001b[38;5;28;01mpass\u001b[39;00m\n\u001b[1;32m   1414\u001b[0m mod_name \u001b[38;5;241m=\u001b[39m load_module_mapping\u001b[38;5;241m.\u001b[39mget(mod_name, mod_name)\n\u001b[0;32m-> 1415\u001b[0m \u001b[38;5;28;01mreturn\u001b[39;00m \u001b[38;5;28msuper\u001b[39m()\u001b[38;5;241m.\u001b[39mfind_class(mod_name, name)\n",
      "\u001b[0;31mModuleNotFoundError\u001b[0m: No module named 'tinyai.nn'"
     ]
    }
   ],
   "source": [
    "from torch import nn\n",
    "def always_zero(*x): return tensor(0.)\n",
    "\n",
    "learn = Trainer(clf_model, DataLoaders([], [(s, torch.zeros(s.size(0)))]), always_zero, model_dir=\"./\")\n",
    "learn.load(\"mnist_clf.pkl\")"
   ]
  },
  {
   "cell_type": "code",
   "execution_count": null,
   "metadata": {},
   "outputs": [
    {
     "data": {
      "application/vnd.jupyter.widget-view+json": {
       "model_id": "6ef51728e09a4354bf1dd8c934301441",
       "version_major": 2,
       "version_minor": 0
      },
      "text/plain": [
       "Epoch:   0%|          | 0/1 [00:00<?, ?it/s]"
      ]
     },
     "metadata": {},
     "output_type": "display_data"
    },
    {
     "data": {
      "application/vnd.jupyter.widget-view+json": {
       "model_id": "33579b1e865145f1a9b1474f460971ab",
       "version_major": 2,
       "version_minor": 0
      },
      "text/plain": [
       "Batch:   0%|          | 0/1 [00:00<?, ?it/s]"
      ]
     },
     "metadata": {},
     "output_type": "display_data"
    },
    {
     "name": "stderr",
     "output_type": "stream",
     "text": [
      "WARNING:root:No calls to update() have been made - returning 0.0\n"
     ]
    },
    {
     "name": "stdout",
     "output_type": "stream",
     "text": [
      "       0     eval   0.0000\n"
     ]
    }
   ],
   "source": [
    "feats, _ = learn.capture_preds()"
   ]
  },
  {
   "cell_type": "code",
   "execution_count": null,
   "metadata": {},
   "outputs": [
    {
     "data": {
      "text/plain": [
       "torch.Size([256, 512])"
      ]
     },
     "execution_count": 54,
     "metadata": {},
     "output_type": "execute_result"
    }
   ],
   "source": [
    "feats = feats.float().squeeze()\n",
    "means = feats.mean(0)\n",
    "feats.shape"
   ]
  },
  {
   "cell_type": "code",
   "execution_count": null,
   "metadata": {},
   "outputs": [
    {
     "data": {
      "text/plain": [
       "torch.Size([256, 512])"
      ]
     },
     "execution_count": 55,
     "metadata": {},
     "output_type": "execute_result"
    }
   ],
   "source": [
    "feats_gt = clf_model(next(iter(dls.valid))[0].to(def_device)).float().squeeze()\n",
    "feats_gt.shape"
   ]
  },
  {
   "cell_type": "code",
   "execution_count": null,
   "metadata": {},
   "outputs": [
    {
     "data": {
      "text/plain": [
       "tensor(0.021)"
      ]
     },
     "execution_count": 46,
     "metadata": {},
     "output_type": "execute_result"
    }
   ],
   "source": [
    "feats.cov().mean()"
   ]
  },
  {
   "cell_type": "code",
   "execution_count": null,
   "metadata": {},
   "outputs": [
    {
     "data": {
      "text/plain": [
       "tensor(61.060, device='cuda:0', grad_fn=<DotBackward0>)"
      ]
     },
     "execution_count": 42,
     "metadata": {},
     "output_type": "execute_result"
    }
   ],
   "source": [
    "(feats.mean(0).to(def_device) @ feats_gt.mean(0))"
   ]
  }
 ],
 "metadata": {
  "kernelspec": {
   "display_name": "Python 3",
   "language": "python",
   "name": "python3"
  },
  "language_info": {
   "codemirror_mode": {
    "name": "ipython",
    "version": 3
   },
   "file_extension": ".py",
   "mimetype": "text/x-python",
   "name": "python",
   "nbconvert_exporter": "python",
   "pygments_lexer": "ipython3",
   "version": "3.11.7"
  }
 },
 "nbformat": 4,
 "nbformat_minor": 2
}
