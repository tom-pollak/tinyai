{
 "cells": [
  {
   "cell_type": "markdown",
   "id": "0a65536f-87e5-43a9-a3ae-9dca0e6c31b3",
   "metadata": {},
   "source": [
    "# Matrix multiplication"
   ]
  },
  {
   "cell_type": "code",
   "execution_count": null,
   "id": "63554cd0-c54c-4b1d-8ab8-bb765f7b983f",
   "metadata": {},
   "outputs": [],
   "source": [
    "from pathlib import Path\n",
    "import pickle, gzip, math, os, time, shutil\n",
    "import matplotlib as mpl\n",
    "import matplotlib.pyplot as plt"
   ]
  },
  {
   "cell_type": "code",
   "execution_count": null,
   "id": "41151f72-9a3d-41ae-bf1f-87330d298120",
   "metadata": {},
   "outputs": [],
   "source": [
    "MNIST_URL = \"https://github.com/mnielsen/neural-networks-and-deep-learning/raw/master/data/mnist.pkl.gz\"\n",
    "path_data = Path('data')\n",
    "path_data.mkdir(exist_ok=True)\n",
    "path_gz = path_data / \"mnist.pkl.gzip\""
   ]
  },
  {
   "cell_type": "code",
   "execution_count": null,
   "id": "e594e8e2-2628-41f4-80cc-021814087625",
   "metadata": {},
   "outputs": [],
   "source": [
    "from urllib.request import urlretrieve\n",
    "if not path_gz.exists():\n",
    "    urlretrieve(MNIST_URL, path_gz)"
   ]
  },
  {
   "cell_type": "code",
   "execution_count": null,
   "id": "cf7ae1c3-e16f-4967-b6a8-82f3984adb4e",
   "metadata": {},
   "outputs": [
    {
     "name": "stdout",
     "output_type": "stream",
     "text": [
      ".\u001b[1;33mr\u001b[31mw\u001b[0m\u001b[38;5;244m-\u001b[33mr\u001b[38;5;244m--\u001b[33mr\u001b[38;5;244m--\u001b[0m@ \u001b[1;32m16\u001b[0m\u001b[32mMi\u001b[0m \u001b[1;33mtom\u001b[0m \u001b[34m23 Dec 23:40\u001b[0m \u001b[38;5;244m-\u001b[32mN\u001b[0m mnist.pkl.gzip\n"
     ]
    }
   ],
   "source": [
    "!ls -l data"
   ]
  },
  {
   "cell_type": "code",
   "execution_count": null,
   "id": "90b67a40-bf94-48ea-868b-46bee387ef40",
   "metadata": {},
   "outputs": [
    {
     "data": {
      "text/plain": [
       "(50000, 784)"
      ]
     },
     "execution_count": null,
     "metadata": {},
     "output_type": "execute_result"
    }
   ],
   "source": [
    "with gzip.open(path_gz, 'rb') as f:\n",
    "    ((x_train, y_train), (x_valid, y_valid), _) = pickle.load(f, encoding='latin-1')\n",
    "\n",
    "x_train.shape"
   ]
  },
  {
   "cell_type": "code",
   "execution_count": null,
   "id": "f82b8883-0cda-4add-bac0-fff302faf1c5",
   "metadata": {},
   "outputs": [
    {
     "data": {
      "text/plain": [
       "28.0"
      ]
     },
     "execution_count": null,
     "metadata": {},
     "output_type": "execute_result"
    }
   ],
   "source": [
    "im_dim = math.sqrt(784); im_dim"
   ]
  },
  {
   "cell_type": "markdown",
   "id": "8540449f-e3ea-4651-a732-4259ea3f73f2",
   "metadata": {},
   "source": [
    "## Chunks"
   ]
  },
  {
   "cell_type": "code",
   "execution_count": null,
   "id": "0958d619-0896-4b4f-88eb-8ebcc31ba7d8",
   "metadata": {},
   "outputs": [],
   "source": [
    "from itertools import islice\n",
    "def chunks(x, sz):\n",
    "    # for i in range(0, len(x), sz): yield x[i:i+sz]\n",
    "    it = iter(x)\n",
    "    return list(iter(lambda: list(islice(it, sz)), []))"
   ]
  },
  {
   "cell_type": "code",
   "execution_count": null,
   "id": "e94e6fca-63bc-4470-9f2b-c617979c868e",
   "metadata": {},
   "outputs": [
    {
     "data": {
      "image/png": "[encoded data removed]",
      "text/plain": [
       "<Figure size 640x480 with 1 Axes>"
      ]
     },
     "metadata": {},
     "output_type": "display_data"
    }
   ],
   "source": [
    "v = list(x_train[0])\n",
    "v_t = list(chunks(v, 28))\n",
    "\n",
    "mpl.rcParams['image.cmap'] = 'gray'\n",
    "plt.imshow(v_t)\n",
    "plt.show()"
   ]
  },
  {
   "cell_type": "code",
   "execution_count": null,
   "id": "2fb50f19-b81b-4a01-b6f0-dfab8c39fa8a",
   "metadata": {},
   "outputs": [
    {
     "ename": "ModuleNotFoundError",
     "evalue": "No module named 'numba'",
     "output_type": "error",
     "traceback": [
      "\u001b[0;31m---------------------------------------------------------------------------\u001b[0m",
      "\u001b[0;31mModuleNotFoundError\u001b[0m                       Traceback (most recent call last)",
      "Cell \u001b[0;32mIn[81], line 1\u001b[0m\n\u001b[0;32m----> 1\u001b[0m \u001b[38;5;28;01mfrom\u001b[39;00m \u001b[38;5;21;01mnumba\u001b[39;00m \u001b[38;5;28;01mimport\u001b[39;00m njit\n",
      "\u001b[0;31mModuleNotFoundError\u001b[0m: No module named 'numba'"
     ]
    }
   ],
   "source": [
    "from numba import njit"
   ]
  },
  {
   "cell_type": "code",
   "execution_count": null,
   "id": "c532173c-ab1c-4316-b18c-2b1399e4b2ae",
   "metadata": {},
   "outputs": [
    {
     "data": {
      "text/plain": [
       "Matrix (3, 3)\n",
       "[[14, 38, 62], [38, 126, 214], [62, 214, 366]]"
      ]
     },
     "execution_count": null,
     "metadata": {},
     "output_type": "execute_result"
    }
   ],
   "source": [
    "def dot(x, y):\n",
    "    return sum(i*j for i, j in zip(x, y))\n",
    "\n",
    "class Matrix:\n",
    "    def __init__(self, x):\n",
    "        self._x = x\n",
    "        \n",
    "    def __getitem__(self, idxs):\n",
    "        cur = self._x\n",
    "        if isinstance(idxs, int):\n",
    "            idxs = [idxs]\n",
    "        for ix in idxs:\n",
    "            cur = cur[ix]\n",
    "        return cur\n",
    "\n",
    "    def __repr__(self):\n",
    "        return f\"Matrix {self.shape()}\\n{self._x}\"\n",
    "\n",
    "    def shape(self):\n",
    "        return (len(self._x), len(self._x[0]))\n",
    "\n",
    "    @staticmethod\n",
    "    def zeros(rows, cols):\n",
    "        return Matrix([[0 for _ in range(cols)] for _ in range(rows)])\n",
    "        \n",
    "    @staticmethod\n",
    "    def zeros_like(instance): return Matrix.zeros(*instance.shape())\n",
    "        \n",
    "    def transpose(self):\n",
    "        rows, cols = self.shape()\n",
    "        new_x = Matrix.zeros(cols, rows)\n",
    "        for i in range(rows):\n",
    "            for j in range(cols):\n",
    "                new_x._x[j][i] = self[i, j]\n",
    "        return new_x\n",
    "\n",
    "    def __matmul__(self, y):\n",
    "        # (x, d) @ (d, y)\n",
    "        assert len(self._x[0]) == len(y._x)\n",
    "        res_rows, res_cols = len(self._x), len(y[0]) # x, y\n",
    "        mul_dim = len(self._x[0])\n",
    "        res = Matrix([[0 for _ in range(res_cols)] for _ in range(res_rows)])\n",
    "        # y_t = y.transpose() # y, d\n",
    "        for i in range(res_rows): # x\n",
    "            for j in range(res_cols): # y\n",
    "                # dot(x[i], y[:, j])\n",
    "                # transposed matrix swapped rows and cols\n",
    "                # res._x[i][j] = dot(self._x[i], y_t[j])\n",
    "                \n",
    "                # or alternatively:\n",
    "                for k in range(mul_dim):\n",
    "                    res._x[i][j] += self[i, k] * y[k, j]\n",
    "                    \n",
    "        return res\n",
    "\n",
    "v_t = Matrix(chunks(v, 28))\n",
    "# v_t @ v_t.transpose()\n",
    "a = Matrix([[0, 1, 2, 3], [4, 5, 6, 7], [8, 9, 10, 11]])\n",
    "a @ a.transpose()"
   ]
  },
  {
   "cell_type": "code",
   "execution_count": null,
   "id": "33b6925a-f933-425b-b4f8-f17cf57cc676",
   "metadata": {},
   "outputs": [
    {
     "name": "stdout",
     "output_type": "stream",
     "text": [
      "CPU times: user 18.6 ms, sys: 3 ms, total: 21.6 ms\n",
      "Wall time: 24.9 ms\n"
     ]
    }
   ],
   "source": [
    "%time _=v_t @ v_t.transpose()"
   ]
  },
  {
   "cell_type": "markdown",
   "id": "530a75be-1aca-4761-8e35-6350d4434556",
   "metadata": {},
   "source": [
    "## Outer product"
   ]
  },
  {
   "cell_type": "code",
   "execution_count": null,
   "id": "6b120272-d2a0-4cd0-a27c-7688565986c9",
   "metadata": {},
   "outputs": [],
   "source": [
    "import torch"
   ]
  },
  {
   "cell_type": "code",
   "execution_count": null,
   "id": "da2d4646-7328-4cf4-b9c2-1d338c6e0157",
   "metadata": {},
   "outputs": [
    {
     "data": {
      "text/plain": [
       "(tensor([0, 1, 2, 3, 4]), tensor([ 0, 10, 20, 30, 40]))"
      ]
     },
     "execution_count": null,
     "metadata": {},
     "output_type": "execute_result"
    }
   ],
   "source": [
    "a = torch.arange(5)\n",
    "b = torch.arange(5) * 10\n",
    "a, b"
   ]
  },
  {
   "cell_type": "code",
   "execution_count": null,
   "id": "c6f6f847-7c81-4fee-adb8-520f25f24c59",
   "metadata": {},
   "outputs": [
    {
     "data": {
      "text/plain": [
       "tensor([[  0,   0,   0,   0,   0],\n",
       "        [  0,  10,  20,  30,  40],\n",
       "        [  0,  20,  40,  60,  80],\n",
       "        [  0,  30,  60,  90, 120],\n",
       "        [  0,  40,  80, 120, 160]])"
      ]
     },
     "execution_count": null,
     "metadata": {},
     "output_type": "execute_result"
    }
   ],
   "source": [
    "a[None, :] * b[:, None]"
   ]
  },
  {
   "cell_type": "code",
   "execution_count": null,
   "id": "3a21a11d-53a5-445f-86b2-6c7076130c92",
   "metadata": {},
   "outputs": [
    {
     "data": {
      "text/plain": [
       "tensor([[  0,   0,   0,   0,   0],\n",
       "        [  0,  10,  20,  30,  40],\n",
       "        [  0,  20,  40,  60,  80],\n",
       "        [  0,  30,  60,  90, 120],\n",
       "        [  0,  40,  80, 120, 160]])"
      ]
     },
     "execution_count": null,
     "metadata": {},
     "output_type": "execute_result"
    }
   ],
   "source": [
    "torch.einsum('i,j->ij', a, b)"
   ]
  },
  {
   "cell_type": "markdown",
   "id": "f9a7917d-2d4d-47bf-bf42-5879c769c5f4",
   "metadata": {},
   "source": [
    "## CUDA"
   ]
  },
  {
   "cell_type": "markdown",
   "id": "fea7fe52-2a12-4105-935c-59894d8338dc",
   "metadata": {},
   "source": [
    "This is how CUDA works (ish)\n",
    "\n",
    "GPUs run many things in paraell, to make sure this works we need to find a way of operating on each one independantly, s.t. if we run it in parellel over all items it can be done\n",
    "\n",
    "Parameters:\n",
    "\n",
    "- `grid`: coordinates of item we want to save the result in\n",
    "- `a`: first input matrix\n",
    "- `b`: second input matrix\n",
    "- `c` output matrix, initialized to 0s"
   ]
  },
  {
   "cell_type": "code",
   "execution_count": null,
   "id": "c3aa9a54-90e9-4191-a790-f3ff0ee5ebfb",
   "metadata": {},
   "outputs": [],
   "source": [
    "def matmul(grid, a, b, c):\n",
    "    i, j = grid\n",
    "    if i < c.shape[0] and j < c.shape[1]:\n",
    "        temp = 0.\n",
    "        for k in range(a.shape[1]):\n",
    "            temp += a[i,k] * b[k,j]\n",
    "        c[i,j] = temp\n",
    "    else:\n",
    "        print(f\"i, j out of range: {i, j}, c shape: {c.shape}\")"
   ]
  },
  {
   "cell_type": "code",
   "execution_count": null,
   "id": "208f670b-8517-4dcf-9ea9-cac06d2ba276",
   "metadata": {},
   "outputs": [
    {
     "data": {
      "text/plain": [
       "tensor(420)"
      ]
     },
     "execution_count": null,
     "metadata": {},
     "output_type": "execute_result"
    }
   ],
   "source": [
    "torch.dot(a[0], b[:, 0])"
   ]
  },
  {
   "cell_type": "code",
   "execution_count": null,
   "id": "9e038fae-8bc8-4283-9eb5-d0b076b2122f",
   "metadata": {},
   "outputs": [
    {
     "name": "stdout",
     "output_type": "stream",
     "text": [
      "tensor([[ 0,  1,  2,  3],\n",
      "        [ 4,  5,  6,  7],\n",
      "        [ 8,  9, 10, 11]])\n",
      "tensor([[  0,  10,  20],\n",
      "        [ 30,  40,  50],\n",
      "        [ 60,  70,  80],\n",
      "        [ 90, 100, 110]])\n",
      "tensor([[ 420,  480,  540],\n",
      "        [1140, 1360, 1580],\n",
      "        [1860, 2240, 2620]])\n"
     ]
    }
   ],
   "source": [
    "res = torch.empty(3, 3)\n",
    "a = torch.arange(12).reshape(3, 4)\n",
    "b = torch.arange(12).reshape(4, 3) * 10\n",
    "print(a)\n",
    "print(b)\n",
    "print(a @ b)"
   ]
  },
  {
   "cell_type": "code",
   "execution_count": null,
   "id": "61743f2f-5999-4e48-bd31-34c4fb622710",
   "metadata": {},
   "outputs": [
    {
     "data": {
      "text/plain": [
       "tensor([[420.,   0.,   0.],\n",
       "        [  0.,   0.,   0.],\n",
       "        [  0.,   0.,   0.]])"
      ]
     },
     "execution_count": null,
     "metadata": {},
     "output_type": "execute_result"
    }
   ],
   "source": [
    "matmul((0, 0), a, b, res); res"
   ]
  },
  {
   "cell_type": "code",
   "execution_count": null,
   "id": "3e9c3624-92b0-44c5-b073-a90209e0a1af",
   "metadata": {},
   "outputs": [
    {
     "data": {
      "text/plain": [
       "tensor([[ 420.,  480.,  540.],\n",
       "        [1140., 1360., 1580.],\n",
       "        [1860., 2240., 2620.]])"
      ]
     },
     "execution_count": null,
     "metadata": {},
     "output_type": "execute_result"
    }
   ],
   "source": [
    "def launch_kernel(f, grid_x, grid_y, *args, **kwargs):\n",
    "    for i in range(grid_x):\n",
    "        for j in range(grid_y):\n",
    "            f((i, j), *args, **kwargs)\n",
    "\n",
    "launch_kernel(matmul, 3, 3, a, b, res)\n",
    "res"
   ]
  },
  {
   "cell_type": "code",
   "execution_count": null,
   "id": "701722a0-1854-4ef6-8125-012b0912e956",
   "metadata": {},
   "outputs": [],
   "source": [
    "from numba import cuda"
   ]
  },
  {
   "cell_type": "code",
   "execution_count": null,
   "id": "efd0ab5e-b485-4b00-9902-2827ce729415",
   "metadata": {},
   "outputs": [],
   "source": [
    "@cuda.jit\n",
    "def matmul(a, b, c):\n",
    "    i, j = cuda.grid(2)\n",
    "    if i < c.shape[0] and j < c.shape[1]:\n",
    "        temp = 0.\n",
    "        for k in range(a.shape[1]):\n",
    "            temp += a[i,k] * b[k,j]\n",
    "        c[i,j] = temp\n",
    "    else:\n",
    "        print(f\"i, j out of range: {i, j}, c shape: {c.shape}\")"
   ]
  }
 ],
 "metadata": {
  "kernelspec": {
   "display_name": "python3",
   "language": "python",
   "name": "python3"
  }
 },
 "nbformat": 4,
 "nbformat_minor": 5
}
